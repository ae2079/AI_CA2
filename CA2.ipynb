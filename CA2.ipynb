{
 "cells": [
  {
   "cell_type": "markdown",
   "id": "15437ad3",
   "metadata": {},
   "source": [
    "# CA 2"
   ]
  },
  {
   "cell_type": "markdown",
   "id": "e7a1b80d",
   "metadata": {},
   "source": [
    "## The purpose of this project is to categorize the data using Naive Bayes Classification"
   ]
  },
  {
   "cell_type": "markdown",
   "id": "9a9d1842",
   "metadata": {},
   "source": [
    "## Naive Bayes Classification"
   ]
  },
  {
   "cell_type": "markdown",
   "id": "be53b6cd",
   "metadata": {},
   "source": [
    "##  In this method, we first calculate the required probabilities using the Train data and then use them to determine the class of Test data."
   ]
  },
  {
   "cell_type": "markdown",
   "id": "22a62d50",
   "metadata": {},
   "source": [
    "# Imports"
   ]
  },
  {
   "cell_type": "code",
   "execution_count": 98,
   "id": "ac5837c4",
   "metadata": {},
   "outputs": [],
   "source": [
    "import hazm\n",
    "import copy\n",
    "import math\n",
    "import numpy as np\n",
    "import matplotlib.pyplot as plt\n",
    "import pandas as pd\n",
    "from __future__ import unicode_literals"
   ]
  },
  {
   "cell_type": "markdown",
   "id": "f00f8682",
   "metadata": {},
   "source": [
    "# Body"
   ]
  },
  {
   "cell_type": "markdown",
   "id": "acdd4e95",
   "metadata": {},
   "source": [
    "## Load Data"
   ]
  },
  {
   "cell_type": "markdown",
   "id": "865094dc",
   "metadata": {},
   "source": [
    "### load train data"
   ]
  },
  {
   "cell_type": "code",
   "execution_count": 2,
   "id": "d390e0d5",
   "metadata": {},
   "outputs": [],
   "source": [
    "train_dataframe = pd.read_csv(\"Data/divar_train.csv\")"
   ]
  },
  {
   "cell_type": "code",
   "execution_count": 3,
   "id": "0f058eb2",
   "metadata": {},
   "outputs": [
    {
     "data": {
      "text/html": [
       "<div>\n",
       "<style scoped>\n",
       "    .dataframe tbody tr th:only-of-type {\n",
       "        vertical-align: middle;\n",
       "    }\n",
       "\n",
       "    .dataframe tbody tr th {\n",
       "        vertical-align: top;\n",
       "    }\n",
       "\n",
       "    .dataframe thead th {\n",
       "        text-align: right;\n",
       "    }\n",
       "</style>\n",
       "<table border=\"1\" class=\"dataframe\">\n",
       "  <thead>\n",
       "    <tr style=\"text-align: right;\">\n",
       "      <th></th>\n",
       "      <th>title</th>\n",
       "      <th>description</th>\n",
       "      <th>categories</th>\n",
       "    </tr>\n",
       "  </thead>\n",
       "  <tbody>\n",
       "    <tr>\n",
       "      <th>0</th>\n",
       "      <td>بلبل خرمایی</td>\n",
       "      <td>سه عدد بلبل خرمایی سه ماهه.از وقتی جوجه بودن خ...</td>\n",
       "      <td>leisure-hobbies</td>\n",
       "    </tr>\n",
       "    <tr>\n",
       "      <th>1</th>\n",
       "      <td>عینک اسکی در حد</td>\n",
       "      <td>عینک اسکی دبل لنز مارک يو وكس  در حد نو اصلی م...</td>\n",
       "      <td>leisure-hobbies</td>\n",
       "    </tr>\n",
       "    <tr>\n",
       "      <th>2</th>\n",
       "      <td>تکیه سر تویوتا پرادو</td>\n",
       "      <td>پارچه ای سالم و تمیز.</td>\n",
       "      <td>vehicles</td>\n",
       "    </tr>\n",
       "    <tr>\n",
       "      <th>3</th>\n",
       "      <td>مجسمه کریستال24%</td>\n",
       "      <td>مجسمه دکوری کریستال بالرین Rcr24%</td>\n",
       "      <td>for-the-home</td>\n",
       "    </tr>\n",
       "    <tr>\n",
       "      <th>4</th>\n",
       "      <td>کیف و ساک</td>\n",
       "      <td>هر 2 کاملا تمیز هستند</td>\n",
       "      <td>personal</td>\n",
       "    </tr>\n",
       "    <tr>\n",
       "      <th>...</th>\n",
       "      <td>...</td>\n",
       "      <td>...</td>\n",
       "      <td>...</td>\n",
       "    </tr>\n",
       "    <tr>\n",
       "      <th>10195</th>\n",
       "      <td>ان هاش 85</td>\n",
       "      <td>نیمه دوم همه چی به شرط در حد خشک 260تا کار</td>\n",
       "      <td>vehicles</td>\n",
       "    </tr>\n",
       "    <tr>\n",
       "      <th>10196</th>\n",
       "      <td>405 دوگانه کارخانه. تمیز</td>\n",
       "      <td>فابریک 4 حلقه لاستیک 205 نو بیمه یکسال تخفیف ب...</td>\n",
       "      <td>vehicles</td>\n",
       "    </tr>\n",
       "    <tr>\n",
       "      <th>10197</th>\n",
       "      <td>بخاری گازی دودکش دار پلار</td>\n",
       "      <td>بخاری نو و بسیار تمیز هستش\\nبا مشتری واقعی کنا...</td>\n",
       "      <td>for-the-home</td>\n",
       "    </tr>\n",
       "    <tr>\n",
       "      <th>10198</th>\n",
       "      <td>نر کله برنجی چتری</td>\n",
       "      <td>سلام به دلیل کمبود جا واسباب کشی به کمترین قیم...</td>\n",
       "      <td>leisure-hobbies</td>\n",
       "    </tr>\n",
       "    <tr>\n",
       "      <th>10199</th>\n",
       "      <td>پراید111سفید</td>\n",
       "      <td>پراید111se\\nسفید.مدل93.درب جلو سمت شاگرد استوک...</td>\n",
       "      <td>vehicles</td>\n",
       "    </tr>\n",
       "  </tbody>\n",
       "</table>\n",
       "<p>10200 rows × 3 columns</p>\n",
       "</div>"
      ],
      "text/plain": [
       "                           title  \\\n",
       "0                    بلبل خرمایی   \n",
       "1                عینک اسکی در حد   \n",
       "2           تکیه سر تویوتا پرادو   \n",
       "3               مجسمه کریستال24%   \n",
       "4                      کیف و ساک   \n",
       "...                          ...   \n",
       "10195                  ان هاش 85   \n",
       "10196   405 دوگانه کارخانه. تمیز   \n",
       "10197  بخاری گازی دودکش دار پلار   \n",
       "10198          نر کله برنجی چتری   \n",
       "10199               پراید111سفید   \n",
       "\n",
       "                                             description       categories  \n",
       "0      سه عدد بلبل خرمایی سه ماهه.از وقتی جوجه بودن خ...  leisure-hobbies  \n",
       "1      عینک اسکی دبل لنز مارک يو وكس  در حد نو اصلی م...  leisure-hobbies  \n",
       "2                                  پارچه ای سالم و تمیز.         vehicles  \n",
       "3                      مجسمه دکوری کریستال بالرین Rcr24%     for-the-home  \n",
       "4                                  هر 2 کاملا تمیز هستند         personal  \n",
       "...                                                  ...              ...  \n",
       "10195         نیمه دوم همه چی به شرط در حد خشک 260تا کار         vehicles  \n",
       "10196  فابریک 4 حلقه لاستیک 205 نو بیمه یکسال تخفیف ب...         vehicles  \n",
       "10197  بخاری نو و بسیار تمیز هستش\\nبا مشتری واقعی کنا...     for-the-home  \n",
       "10198  سلام به دلیل کمبود جا واسباب کشی به کمترین قیم...  leisure-hobbies  \n",
       "10199  پراید111se\\nسفید.مدل93.درب جلو سمت شاگرد استوک...         vehicles  \n",
       "\n",
       "[10200 rows x 3 columns]"
      ]
     },
     "execution_count": 3,
     "metadata": {},
     "output_type": "execute_result"
    }
   ],
   "source": [
    "train_dataframe"
   ]
  },
  {
   "cell_type": "markdown",
   "id": "ee487f7d",
   "metadata": {},
   "source": [
    "### As seen above , train data was loaded successfully."
   ]
  },
  {
   "cell_type": "markdown",
   "id": "6e3246d6",
   "metadata": {},
   "source": [
    "### load test data"
   ]
  },
  {
   "cell_type": "code",
   "execution_count": 4,
   "id": "e665e6c3",
   "metadata": {},
   "outputs": [],
   "source": [
    "test_dataframe = pd.read_csv(\"Data/divar_test.csv\")"
   ]
  },
  {
   "cell_type": "code",
   "execution_count": 5,
   "id": "603826fe",
   "metadata": {},
   "outputs": [
    {
     "data": {
      "text/html": [
       "<div>\n",
       "<style scoped>\n",
       "    .dataframe tbody tr th:only-of-type {\n",
       "        vertical-align: middle;\n",
       "    }\n",
       "\n",
       "    .dataframe tbody tr th {\n",
       "        vertical-align: top;\n",
       "    }\n",
       "\n",
       "    .dataframe thead th {\n",
       "        text-align: right;\n",
       "    }\n",
       "</style>\n",
       "<table border=\"1\" class=\"dataframe\">\n",
       "  <thead>\n",
       "    <tr style=\"text-align: right;\">\n",
       "      <th></th>\n",
       "      <th>title</th>\n",
       "      <th>description</th>\n",
       "      <th>categories</th>\n",
       "    </tr>\n",
       "  </thead>\n",
       "  <tbody>\n",
       "    <tr>\n",
       "      <th>0</th>\n",
       "      <td>کیف مجلسی نو</td>\n",
       "      <td>کیف مجلسی نوی نو</td>\n",
       "      <td>personal</td>\n",
       "    </tr>\n",
       "    <tr>\n",
       "      <th>1</th>\n",
       "      <td>دیوار کوب نمدی تزیینی</td>\n",
       "      <td>مناسب برای جهاز عروس</td>\n",
       "      <td>for-the-home</td>\n",
       "    </tr>\n",
       "    <tr>\n",
       "      <th>2</th>\n",
       "      <td>دو تیکه بسیار بسیار تمیز و سالم</td>\n",
       "      <td>با کشوی مخفی و شیک</td>\n",
       "      <td>for-the-home</td>\n",
       "    </tr>\n",
       "    <tr>\n",
       "      <th>3</th>\n",
       "      <td>مودم</td>\n",
       "      <td>سلام مودم سالم با وسایلش،دیگه ب کارم نمیاد \\nم...</td>\n",
       "      <td>electronic-devices</td>\n",
       "    </tr>\n",
       "    <tr>\n",
       "      <th>4</th>\n",
       "      <td>تعداد18عددبوقلمون به قیمت عمده</td>\n",
       "      <td>سلام تعدای بوقلمون دارم به علت جابه جایی به فر...</td>\n",
       "      <td>leisure-hobbies</td>\n",
       "    </tr>\n",
       "    <tr>\n",
       "      <th>...</th>\n",
       "      <td>...</td>\n",
       "      <td>...</td>\n",
       "      <td>...</td>\n",
       "    </tr>\n",
       "    <tr>\n",
       "      <th>1795</th>\n",
       "      <td>باسکول 300کیلویی</td>\n",
       "      <td>سالمه سالمه بشرط\\nقیمت نوش داخل بازار600تومنه</td>\n",
       "      <td>businesses</td>\n",
       "    </tr>\n",
       "    <tr>\n",
       "      <th>1796</th>\n",
       "      <td>میز مدیریتی با کنفرانس</td>\n",
       "      <td>میز مدیریتی با کنفرانس \\nتمیز سالم بدون خط و خش</td>\n",
       "      <td>businesses</td>\n",
       "    </tr>\n",
       "    <tr>\n",
       "      <th>1797</th>\n",
       "      <td>باند aiwa</td>\n",
       "      <td>سالم،با اسپیکر</td>\n",
       "      <td>electronic-devices</td>\n",
       "    </tr>\n",
       "    <tr>\n",
       "      <th>1798</th>\n",
       "      <td>عروس هلندی مولد</td>\n",
       "      <td>پنج تا عروس هلندی،  دو جفت ویک تک،یه جفتش دم ت...</td>\n",
       "      <td>leisure-hobbies</td>\n",
       "    </tr>\n",
       "    <tr>\n",
       "      <th>1799</th>\n",
       "      <td>ست دستباف دخترانه یکساله نو</td>\n",
       "      <td>ست دخترانه تا یکسال و نیم هم میشه ،کاردست و نو...</td>\n",
       "      <td>personal</td>\n",
       "    </tr>\n",
       "  </tbody>\n",
       "</table>\n",
       "<p>1800 rows × 3 columns</p>\n",
       "</div>"
      ],
      "text/plain": [
       "                                title  \\\n",
       "0                        کیف مجلسی نو   \n",
       "1               دیوار کوب نمدی تزیینی   \n",
       "2     دو تیکه بسیار بسیار تمیز و سالم   \n",
       "3                                مودم   \n",
       "4      تعداد18عددبوقلمون به قیمت عمده   \n",
       "...                               ...   \n",
       "1795                 باسکول 300کیلویی   \n",
       "1796           میز مدیریتی با کنفرانس   \n",
       "1797                        باند aiwa   \n",
       "1798                  عروس هلندی مولد   \n",
       "1799      ست دستباف دخترانه یکساله نو   \n",
       "\n",
       "                                            description          categories  \n",
       "0                                      کیف مجلسی نوی نو            personal  \n",
       "1                                  مناسب برای جهاز عروس        for-the-home  \n",
       "2                                    با کشوی مخفی و شیک        for-the-home  \n",
       "3     سلام مودم سالم با وسایلش،دیگه ب کارم نمیاد \\nم...  electronic-devices  \n",
       "4     سلام تعدای بوقلمون دارم به علت جابه جایی به فر...     leisure-hobbies  \n",
       "...                                                 ...                 ...  \n",
       "1795      سالمه سالمه بشرط\\nقیمت نوش داخل بازار600تومنه          businesses  \n",
       "1796    میز مدیریتی با کنفرانس \\nتمیز سالم بدون خط و خش          businesses  \n",
       "1797                                     سالم،با اسپیکر  electronic-devices  \n",
       "1798  پنج تا عروس هلندی،  دو جفت ویک تک،یه جفتش دم ت...     leisure-hobbies  \n",
       "1799  ست دخترانه تا یکسال و نیم هم میشه ،کاردست و نو...            personal  \n",
       "\n",
       "[1800 rows x 3 columns]"
      ]
     },
     "execution_count": 5,
     "metadata": {},
     "output_type": "execute_result"
    }
   ],
   "source": [
    "test_dataframe"
   ]
  },
  {
   "cell_type": "markdown",
   "id": "abdadb01",
   "metadata": {},
   "source": [
    "### As seen above , test data was loaded successfully."
   ]
  },
  {
   "cell_type": "markdown",
   "id": "1dc04a7e",
   "metadata": {},
   "source": [
    "## Data Preprocess"
   ]
  },
  {
   "cell_type": "markdown",
   "id": "8cfe2c00",
   "metadata": {},
   "source": [
    "### combine title and description"
   ]
  },
  {
   "cell_type": "code",
   "execution_count": 6,
   "id": "2e5fbc38",
   "metadata": {},
   "outputs": [],
   "source": [
    "train_dataframe['data'] = train_dataframe['title'] + \" \" + train_dataframe['description']"
   ]
  },
  {
   "cell_type": "code",
   "execution_count": 7,
   "id": "241aae46",
   "metadata": {
    "scrolled": true
   },
   "outputs": [],
   "source": [
    "train_dataframe = train_dataframe.drop(['title', 'description'], axis = 1)"
   ]
  },
  {
   "cell_type": "code",
   "execution_count": 8,
   "id": "28b98de2",
   "metadata": {},
   "outputs": [
    {
     "data": {
      "text/html": [
       "<div>\n",
       "<style scoped>\n",
       "    .dataframe tbody tr th:only-of-type {\n",
       "        vertical-align: middle;\n",
       "    }\n",
       "\n",
       "    .dataframe tbody tr th {\n",
       "        vertical-align: top;\n",
       "    }\n",
       "\n",
       "    .dataframe thead th {\n",
       "        text-align: right;\n",
       "    }\n",
       "</style>\n",
       "<table border=\"1\" class=\"dataframe\">\n",
       "  <thead>\n",
       "    <tr style=\"text-align: right;\">\n",
       "      <th></th>\n",
       "      <th>categories</th>\n",
       "      <th>data</th>\n",
       "    </tr>\n",
       "  </thead>\n",
       "  <tbody>\n",
       "    <tr>\n",
       "      <th>0</th>\n",
       "      <td>leisure-hobbies</td>\n",
       "      <td>بلبل خرمایی سه عدد بلبل خرمایی سه ماهه.از وقتی...</td>\n",
       "    </tr>\n",
       "    <tr>\n",
       "      <th>1</th>\n",
       "      <td>leisure-hobbies</td>\n",
       "      <td>عینک اسکی در حد عینک اسکی دبل لنز مارک يو وكس ...</td>\n",
       "    </tr>\n",
       "    <tr>\n",
       "      <th>2</th>\n",
       "      <td>vehicles</td>\n",
       "      <td>تکیه سر تویوتا پرادو پارچه ای سالم و تمیز.</td>\n",
       "    </tr>\n",
       "    <tr>\n",
       "      <th>3</th>\n",
       "      <td>for-the-home</td>\n",
       "      <td>مجسمه کریستال24% مجسمه دکوری کریستال بالرین Rc...</td>\n",
       "    </tr>\n",
       "    <tr>\n",
       "      <th>4</th>\n",
       "      <td>personal</td>\n",
       "      <td>کیف و ساک هر 2 کاملا تمیز هستند</td>\n",
       "    </tr>\n",
       "    <tr>\n",
       "      <th>...</th>\n",
       "      <td>...</td>\n",
       "      <td>...</td>\n",
       "    </tr>\n",
       "    <tr>\n",
       "      <th>10195</th>\n",
       "      <td>vehicles</td>\n",
       "      <td>ان هاش 85 نیمه دوم همه چی به شرط در حد خشک 260...</td>\n",
       "    </tr>\n",
       "    <tr>\n",
       "      <th>10196</th>\n",
       "      <td>vehicles</td>\n",
       "      <td>405 دوگانه کارخانه. تمیز فابریک 4 حلقه لاستیک ...</td>\n",
       "    </tr>\n",
       "    <tr>\n",
       "      <th>10197</th>\n",
       "      <td>for-the-home</td>\n",
       "      <td>بخاری گازی دودکش دار پلار بخاری نو و بسیار تمی...</td>\n",
       "    </tr>\n",
       "    <tr>\n",
       "      <th>10198</th>\n",
       "      <td>leisure-hobbies</td>\n",
       "      <td>نر کله برنجی چتری سلام به دلیل کمبود جا واسباب...</td>\n",
       "    </tr>\n",
       "    <tr>\n",
       "      <th>10199</th>\n",
       "      <td>vehicles</td>\n",
       "      <td>پراید111سفید پراید111se\\nسفید.مدل93.درب جلو سم...</td>\n",
       "    </tr>\n",
       "  </tbody>\n",
       "</table>\n",
       "<p>10200 rows × 2 columns</p>\n",
       "</div>"
      ],
      "text/plain": [
       "            categories                                               data\n",
       "0      leisure-hobbies  بلبل خرمایی سه عدد بلبل خرمایی سه ماهه.از وقتی...\n",
       "1      leisure-hobbies  عینک اسکی در حد عینک اسکی دبل لنز مارک يو وكس ...\n",
       "2             vehicles         تکیه سر تویوتا پرادو پارچه ای سالم و تمیز.\n",
       "3         for-the-home  مجسمه کریستال24% مجسمه دکوری کریستال بالرین Rc...\n",
       "4             personal                    کیف و ساک هر 2 کاملا تمیز هستند\n",
       "...                ...                                                ...\n",
       "10195         vehicles  ان هاش 85 نیمه دوم همه چی به شرط در حد خشک 260...\n",
       "10196         vehicles  405 دوگانه کارخانه. تمیز فابریک 4 حلقه لاستیک ...\n",
       "10197     for-the-home  بخاری گازی دودکش دار پلار بخاری نو و بسیار تمی...\n",
       "10198  leisure-hobbies  نر کله برنجی چتری سلام به دلیل کمبود جا واسباب...\n",
       "10199         vehicles  پراید111سفید پراید111se\\nسفید.مدل93.درب جلو سم...\n",
       "\n",
       "[10200 rows x 2 columns]"
      ]
     },
     "execution_count": 8,
     "metadata": {},
     "output_type": "execute_result"
    }
   ],
   "source": [
    "train_dataframe"
   ]
  },
  {
   "cell_type": "code",
   "execution_count": 9,
   "id": "df614f1d",
   "metadata": {},
   "outputs": [],
   "source": [
    "test_dataframe['data'] = test_dataframe['title'] + \" \" + test_dataframe['description']"
   ]
  },
  {
   "cell_type": "code",
   "execution_count": 10,
   "id": "93673f22",
   "metadata": {},
   "outputs": [],
   "source": [
    "test_dataframe = test_dataframe.drop(['title', 'description'], axis = 1)"
   ]
  },
  {
   "cell_type": "code",
   "execution_count": 11,
   "id": "b94af0cf",
   "metadata": {},
   "outputs": [
    {
     "data": {
      "text/html": [
       "<div>\n",
       "<style scoped>\n",
       "    .dataframe tbody tr th:only-of-type {\n",
       "        vertical-align: middle;\n",
       "    }\n",
       "\n",
       "    .dataframe tbody tr th {\n",
       "        vertical-align: top;\n",
       "    }\n",
       "\n",
       "    .dataframe thead th {\n",
       "        text-align: right;\n",
       "    }\n",
       "</style>\n",
       "<table border=\"1\" class=\"dataframe\">\n",
       "  <thead>\n",
       "    <tr style=\"text-align: right;\">\n",
       "      <th></th>\n",
       "      <th>categories</th>\n",
       "      <th>data</th>\n",
       "    </tr>\n",
       "  </thead>\n",
       "  <tbody>\n",
       "    <tr>\n",
       "      <th>0</th>\n",
       "      <td>personal</td>\n",
       "      <td>کیف مجلسی نو کیف مجلسی نوی نو</td>\n",
       "    </tr>\n",
       "    <tr>\n",
       "      <th>1</th>\n",
       "      <td>for-the-home</td>\n",
       "      <td>دیوار کوب نمدی تزیینی مناسب برای جهاز عروس</td>\n",
       "    </tr>\n",
       "    <tr>\n",
       "      <th>2</th>\n",
       "      <td>for-the-home</td>\n",
       "      <td>دو تیکه بسیار بسیار تمیز و سالم با کشوی مخفی و...</td>\n",
       "    </tr>\n",
       "    <tr>\n",
       "      <th>3</th>\n",
       "      <td>electronic-devices</td>\n",
       "      <td>مودم سلام مودم سالم با وسایلش،دیگه ب کارم نمیا...</td>\n",
       "    </tr>\n",
       "    <tr>\n",
       "      <th>4</th>\n",
       "      <td>leisure-hobbies</td>\n",
       "      <td>تعداد18عددبوقلمون به قیمت عمده سلام تعدای بوقل...</td>\n",
       "    </tr>\n",
       "    <tr>\n",
       "      <th>...</th>\n",
       "      <td>...</td>\n",
       "      <td>...</td>\n",
       "    </tr>\n",
       "    <tr>\n",
       "      <th>1795</th>\n",
       "      <td>businesses</td>\n",
       "      <td>باسکول 300کیلویی سالمه سالمه بشرط\\nقیمت نوش دا...</td>\n",
       "    </tr>\n",
       "    <tr>\n",
       "      <th>1796</th>\n",
       "      <td>businesses</td>\n",
       "      <td>میز مدیریتی با کنفرانس میز مدیریتی با کنفرانس ...</td>\n",
       "    </tr>\n",
       "    <tr>\n",
       "      <th>1797</th>\n",
       "      <td>electronic-devices</td>\n",
       "      <td>باند aiwa سالم،با اسپیکر</td>\n",
       "    </tr>\n",
       "    <tr>\n",
       "      <th>1798</th>\n",
       "      <td>leisure-hobbies</td>\n",
       "      <td>عروس هلندی مولد پنج تا عروس هلندی،  دو جفت ویک...</td>\n",
       "    </tr>\n",
       "    <tr>\n",
       "      <th>1799</th>\n",
       "      <td>personal</td>\n",
       "      <td>ست دستباف دخترانه یکساله نو ست دخترانه تا یکسا...</td>\n",
       "    </tr>\n",
       "  </tbody>\n",
       "</table>\n",
       "<p>1800 rows × 2 columns</p>\n",
       "</div>"
      ],
      "text/plain": [
       "              categories                                               data\n",
       "0               personal                      کیف مجلسی نو کیف مجلسی نوی نو\n",
       "1           for-the-home         دیوار کوب نمدی تزیینی مناسب برای جهاز عروس\n",
       "2           for-the-home  دو تیکه بسیار بسیار تمیز و سالم با کشوی مخفی و...\n",
       "3     electronic-devices  مودم سلام مودم سالم با وسایلش،دیگه ب کارم نمیا...\n",
       "4        leisure-hobbies  تعداد18عددبوقلمون به قیمت عمده سلام تعدای بوقل...\n",
       "...                  ...                                                ...\n",
       "1795          businesses  باسکول 300کیلویی سالمه سالمه بشرط\\nقیمت نوش دا...\n",
       "1796          businesses  میز مدیریتی با کنفرانس میز مدیریتی با کنفرانس ...\n",
       "1797  electronic-devices                           باند aiwa سالم،با اسپیکر\n",
       "1798     leisure-hobbies  عروس هلندی مولد پنج تا عروس هلندی،  دو جفت ویک...\n",
       "1799            personal  ست دستباف دخترانه یکساله نو ست دخترانه تا یکسا...\n",
       "\n",
       "[1800 rows x 2 columns]"
      ]
     },
     "execution_count": 11,
     "metadata": {},
     "output_type": "execute_result"
    }
   ],
   "source": [
    "test_dataframe"
   ]
  },
  {
   "cell_type": "markdown",
   "id": "e31ef8ac",
   "metadata": {},
   "source": [
    "### normalize data"
   ]
  },
  {
   "cell_type": "code",
   "execution_count": 12,
   "id": "2528e09e",
   "metadata": {},
   "outputs": [],
   "source": [
    "normalizer = hazm.Normalizer()"
   ]
  },
  {
   "cell_type": "code",
   "execution_count": 13,
   "id": "9b8b2887",
   "metadata": {},
   "outputs": [],
   "source": [
    "train_dataframe['data'] = train_dataframe['data'].apply(normalizer.normalize)"
   ]
  },
  {
   "cell_type": "code",
   "execution_count": 14,
   "id": "1ecf02aa",
   "metadata": {},
   "outputs": [
    {
     "data": {
      "text/html": [
       "<div>\n",
       "<style scoped>\n",
       "    .dataframe tbody tr th:only-of-type {\n",
       "        vertical-align: middle;\n",
       "    }\n",
       "\n",
       "    .dataframe tbody tr th {\n",
       "        vertical-align: top;\n",
       "    }\n",
       "\n",
       "    .dataframe thead th {\n",
       "        text-align: right;\n",
       "    }\n",
       "</style>\n",
       "<table border=\"1\" class=\"dataframe\">\n",
       "  <thead>\n",
       "    <tr style=\"text-align: right;\">\n",
       "      <th></th>\n",
       "      <th>categories</th>\n",
       "      <th>data</th>\n",
       "    </tr>\n",
       "  </thead>\n",
       "  <tbody>\n",
       "    <tr>\n",
       "      <th>0</th>\n",
       "      <td>leisure-hobbies</td>\n",
       "      <td>بلبل خرمایی سه عدد بلبل خرمایی سه ماهه. از وقت...</td>\n",
       "    </tr>\n",
       "    <tr>\n",
       "      <th>1</th>\n",
       "      <td>leisure-hobbies</td>\n",
       "      <td>عینک اسکی در حد عینک اسکی دبل لنز مارک یو وکس ...</td>\n",
       "    </tr>\n",
       "    <tr>\n",
       "      <th>2</th>\n",
       "      <td>vehicles</td>\n",
       "      <td>تکیه سر تویوتا پرادو پارچه‌ای سالم و تمیز.</td>\n",
       "    </tr>\n",
       "    <tr>\n",
       "      <th>3</th>\n",
       "      <td>for-the-home</td>\n",
       "      <td>مجسمه کریستال۲۴٪ مجسمه دکوری کریستال بالرین Rc...</td>\n",
       "    </tr>\n",
       "    <tr>\n",
       "      <th>4</th>\n",
       "      <td>personal</td>\n",
       "      <td>کیف و ساک هر ۲ کاملا تمیز هستند</td>\n",
       "    </tr>\n",
       "    <tr>\n",
       "      <th>...</th>\n",
       "      <td>...</td>\n",
       "      <td>...</td>\n",
       "    </tr>\n",
       "    <tr>\n",
       "      <th>10195</th>\n",
       "      <td>vehicles</td>\n",
       "      <td>ان هاش ۸۵ نیمه دوم همه چی به شرط در حد خشک ۲۶۰...</td>\n",
       "    </tr>\n",
       "    <tr>\n",
       "      <th>10196</th>\n",
       "      <td>vehicles</td>\n",
       "      <td>۴۰۵ دوگانه کارخانه. تمیز فابریک ۴ حلقه لاستیک ...</td>\n",
       "    </tr>\n",
       "    <tr>\n",
       "      <th>10197</th>\n",
       "      <td>for-the-home</td>\n",
       "      <td>بخاری گازی دودکش دار پلار بخاری نو و بسیار تمی...</td>\n",
       "    </tr>\n",
       "    <tr>\n",
       "      <th>10198</th>\n",
       "      <td>leisure-hobbies</td>\n",
       "      <td>نر کله برنجی چتری سلام به دلیل کمبود جا واسباب...</td>\n",
       "    </tr>\n",
       "    <tr>\n",
       "      <th>10199</th>\n",
       "      <td>vehicles</td>\n",
       "      <td>پراید۱۱۱سفید پراید۱۱۱se\\nسفید. مدل۹۳. درب جلو ...</td>\n",
       "    </tr>\n",
       "  </tbody>\n",
       "</table>\n",
       "<p>10200 rows × 2 columns</p>\n",
       "</div>"
      ],
      "text/plain": [
       "            categories                                               data\n",
       "0      leisure-hobbies  بلبل خرمایی سه عدد بلبل خرمایی سه ماهه. از وقت...\n",
       "1      leisure-hobbies  عینک اسکی در حد عینک اسکی دبل لنز مارک یو وکس ...\n",
       "2             vehicles         تکیه سر تویوتا پرادو پارچه‌ای سالم و تمیز.\n",
       "3         for-the-home  مجسمه کریستال۲۴٪ مجسمه دکوری کریستال بالرین Rc...\n",
       "4             personal                    کیف و ساک هر ۲ کاملا تمیز هستند\n",
       "...                ...                                                ...\n",
       "10195         vehicles  ان هاش ۸۵ نیمه دوم همه چی به شرط در حد خشک ۲۶۰...\n",
       "10196         vehicles  ۴۰۵ دوگانه کارخانه. تمیز فابریک ۴ حلقه لاستیک ...\n",
       "10197     for-the-home  بخاری گازی دودکش دار پلار بخاری نو و بسیار تمی...\n",
       "10198  leisure-hobbies  نر کله برنجی چتری سلام به دلیل کمبود جا واسباب...\n",
       "10199         vehicles  پراید۱۱۱سفید پراید۱۱۱se\\nسفید. مدل۹۳. درب جلو ...\n",
       "\n",
       "[10200 rows x 2 columns]"
      ]
     },
     "execution_count": 14,
     "metadata": {},
     "output_type": "execute_result"
    }
   ],
   "source": [
    "train_dataframe"
   ]
  },
  {
   "cell_type": "code",
   "execution_count": 15,
   "id": "42a43b67",
   "metadata": {},
   "outputs": [],
   "source": [
    "test_dataframe['data'] = test_dataframe['data'].apply(normalizer.normalize)"
   ]
  },
  {
   "cell_type": "code",
   "execution_count": 16,
   "id": "49ecb357",
   "metadata": {},
   "outputs": [
    {
     "data": {
      "text/html": [
       "<div>\n",
       "<style scoped>\n",
       "    .dataframe tbody tr th:only-of-type {\n",
       "        vertical-align: middle;\n",
       "    }\n",
       "\n",
       "    .dataframe tbody tr th {\n",
       "        vertical-align: top;\n",
       "    }\n",
       "\n",
       "    .dataframe thead th {\n",
       "        text-align: right;\n",
       "    }\n",
       "</style>\n",
       "<table border=\"1\" class=\"dataframe\">\n",
       "  <thead>\n",
       "    <tr style=\"text-align: right;\">\n",
       "      <th></th>\n",
       "      <th>categories</th>\n",
       "      <th>data</th>\n",
       "    </tr>\n",
       "  </thead>\n",
       "  <tbody>\n",
       "    <tr>\n",
       "      <th>0</th>\n",
       "      <td>personal</td>\n",
       "      <td>کیف مجلسی نو کیف مجلسی نوی نو</td>\n",
       "    </tr>\n",
       "    <tr>\n",
       "      <th>1</th>\n",
       "      <td>for-the-home</td>\n",
       "      <td>دیوار کوب نمدی تزیینی مناسب برای جهاز عروس</td>\n",
       "    </tr>\n",
       "    <tr>\n",
       "      <th>2</th>\n",
       "      <td>for-the-home</td>\n",
       "      <td>دو تیکه بسیار بسیار تمیز و سالم با کشوی مخفی و...</td>\n",
       "    </tr>\n",
       "    <tr>\n",
       "      <th>3</th>\n",
       "      <td>electronic-devices</td>\n",
       "      <td>مودم سلام مودم سالم با وسایلش، دیگه ب کارم نمی...</td>\n",
       "    </tr>\n",
       "    <tr>\n",
       "      <th>4</th>\n",
       "      <td>leisure-hobbies</td>\n",
       "      <td>تعداد۱۸عددبوقلمون به قیمت عمده سلام تعدای بوقل...</td>\n",
       "    </tr>\n",
       "    <tr>\n",
       "      <th>...</th>\n",
       "      <td>...</td>\n",
       "      <td>...</td>\n",
       "    </tr>\n",
       "    <tr>\n",
       "      <th>1795</th>\n",
       "      <td>businesses</td>\n",
       "      <td>باسکول ۳۰۰کیلویی سالمه سالمه بشرط\\nقیمت نوش دا...</td>\n",
       "    </tr>\n",
       "    <tr>\n",
       "      <th>1796</th>\n",
       "      <td>businesses</td>\n",
       "      <td>میز مدیریتی با کنفرانس میز مدیریتی با کنفرانس ...</td>\n",
       "    </tr>\n",
       "    <tr>\n",
       "      <th>1797</th>\n",
       "      <td>electronic-devices</td>\n",
       "      <td>باند aiwa سالم، با اسپیکر</td>\n",
       "    </tr>\n",
       "    <tr>\n",
       "      <th>1798</th>\n",
       "      <td>leisure-hobbies</td>\n",
       "      <td>عروس هلندی مولد پنج تا عروس هلندی، دو جفت ویک ...</td>\n",
       "    </tr>\n",
       "    <tr>\n",
       "      <th>1799</th>\n",
       "      <td>personal</td>\n",
       "      <td>ست دستباف دخترانه یکساله نو ست دخترانه تا یکسا...</td>\n",
       "    </tr>\n",
       "  </tbody>\n",
       "</table>\n",
       "<p>1800 rows × 2 columns</p>\n",
       "</div>"
      ],
      "text/plain": [
       "              categories                                               data\n",
       "0               personal                      کیف مجلسی نو کیف مجلسی نوی نو\n",
       "1           for-the-home         دیوار کوب نمدی تزیینی مناسب برای جهاز عروس\n",
       "2           for-the-home  دو تیکه بسیار بسیار تمیز و سالم با کشوی مخفی و...\n",
       "3     electronic-devices  مودم سلام مودم سالم با وسایلش، دیگه ب کارم نمی...\n",
       "4        leisure-hobbies  تعداد۱۸عددبوقلمون به قیمت عمده سلام تعدای بوقل...\n",
       "...                  ...                                                ...\n",
       "1795          businesses  باسکول ۳۰۰کیلویی سالمه سالمه بشرط\\nقیمت نوش دا...\n",
       "1796          businesses  میز مدیریتی با کنفرانس میز مدیریتی با کنفرانس ...\n",
       "1797  electronic-devices                          باند aiwa سالم، با اسپیکر\n",
       "1798     leisure-hobbies  عروس هلندی مولد پنج تا عروس هلندی، دو جفت ویک ...\n",
       "1799            personal  ست دستباف دخترانه یکساله نو ست دخترانه تا یکسا...\n",
       "\n",
       "[1800 rows x 2 columns]"
      ]
     },
     "execution_count": 16,
     "metadata": {},
     "output_type": "execute_result"
    }
   ],
   "source": [
    "test_dataframe"
   ]
  },
  {
   "cell_type": "markdown",
   "id": "912b8d9c",
   "metadata": {},
   "source": [
    "### extract words from data"
   ]
  },
  {
   "cell_type": "code",
   "execution_count": 17,
   "id": "24e07c6c",
   "metadata": {},
   "outputs": [],
   "source": [
    "train_dataframe['data'] = train_dataframe['data'].apply(hazm.word_tokenize)"
   ]
  },
  {
   "cell_type": "code",
   "execution_count": 18,
   "id": "6101cf10",
   "metadata": {},
   "outputs": [
    {
     "data": {
      "text/html": [
       "<div>\n",
       "<style scoped>\n",
       "    .dataframe tbody tr th:only-of-type {\n",
       "        vertical-align: middle;\n",
       "    }\n",
       "\n",
       "    .dataframe tbody tr th {\n",
       "        vertical-align: top;\n",
       "    }\n",
       "\n",
       "    .dataframe thead th {\n",
       "        text-align: right;\n",
       "    }\n",
       "</style>\n",
       "<table border=\"1\" class=\"dataframe\">\n",
       "  <thead>\n",
       "    <tr style=\"text-align: right;\">\n",
       "      <th></th>\n",
       "      <th>categories</th>\n",
       "      <th>data</th>\n",
       "    </tr>\n",
       "  </thead>\n",
       "  <tbody>\n",
       "    <tr>\n",
       "      <th>0</th>\n",
       "      <td>leisure-hobbies</td>\n",
       "      <td>[بلبل, خرمایی, سه, عدد, بلبل, خرمایی, سه, ماهه...</td>\n",
       "    </tr>\n",
       "    <tr>\n",
       "      <th>1</th>\n",
       "      <td>leisure-hobbies</td>\n",
       "      <td>[عینک, اسکی, در, حد, عینک, اسکی, دبل, لنز, مار...</td>\n",
       "    </tr>\n",
       "    <tr>\n",
       "      <th>2</th>\n",
       "      <td>vehicles</td>\n",
       "      <td>[تکیه, سر, تویوتا, پرادو, پارچه‌ای, سالم, و, ت...</td>\n",
       "    </tr>\n",
       "    <tr>\n",
       "      <th>3</th>\n",
       "      <td>for-the-home</td>\n",
       "      <td>[مجسمه, کریستال, ۲۴, ٪, مجسمه, دکوری, کریستال,...</td>\n",
       "    </tr>\n",
       "    <tr>\n",
       "      <th>4</th>\n",
       "      <td>personal</td>\n",
       "      <td>[کیف, و, ساک, هر, ۲, کاملا, تمیز, هستند]</td>\n",
       "    </tr>\n",
       "    <tr>\n",
       "      <th>...</th>\n",
       "      <td>...</td>\n",
       "      <td>...</td>\n",
       "    </tr>\n",
       "    <tr>\n",
       "      <th>10195</th>\n",
       "      <td>vehicles</td>\n",
       "      <td>[ان, هاش, ۸۵, نیمه, دوم, همه, چی, به, شرط, در,...</td>\n",
       "    </tr>\n",
       "    <tr>\n",
       "      <th>10196</th>\n",
       "      <td>vehicles</td>\n",
       "      <td>[۴۰۵, دوگانه, کارخانه, ., تمیز, فابریک, ۴, حلق...</td>\n",
       "    </tr>\n",
       "    <tr>\n",
       "      <th>10197</th>\n",
       "      <td>for-the-home</td>\n",
       "      <td>[بخاری, گازی, دودکش, دار, پلار, بخاری, نو, و, ...</td>\n",
       "    </tr>\n",
       "    <tr>\n",
       "      <th>10198</th>\n",
       "      <td>leisure-hobbies</td>\n",
       "      <td>[نر, کله, برنجی, چتری, سلام, به, دلیل, کمبود, ...</td>\n",
       "    </tr>\n",
       "    <tr>\n",
       "      <th>10199</th>\n",
       "      <td>vehicles</td>\n",
       "      <td>[پراید, ۱۱۱, سفید, پراید, ۱۱۱, se, سفید, ., مد...</td>\n",
       "    </tr>\n",
       "  </tbody>\n",
       "</table>\n",
       "<p>10200 rows × 2 columns</p>\n",
       "</div>"
      ],
      "text/plain": [
       "            categories                                               data\n",
       "0      leisure-hobbies  [بلبل, خرمایی, سه, عدد, بلبل, خرمایی, سه, ماهه...\n",
       "1      leisure-hobbies  [عینک, اسکی, در, حد, عینک, اسکی, دبل, لنز, مار...\n",
       "2             vehicles  [تکیه, سر, تویوتا, پرادو, پارچه‌ای, سالم, و, ت...\n",
       "3         for-the-home  [مجسمه, کریستال, ۲۴, ٪, مجسمه, دکوری, کریستال,...\n",
       "4             personal           [کیف, و, ساک, هر, ۲, کاملا, تمیز, هستند]\n",
       "...                ...                                                ...\n",
       "10195         vehicles  [ان, هاش, ۸۵, نیمه, دوم, همه, چی, به, شرط, در,...\n",
       "10196         vehicles  [۴۰۵, دوگانه, کارخانه, ., تمیز, فابریک, ۴, حلق...\n",
       "10197     for-the-home  [بخاری, گازی, دودکش, دار, پلار, بخاری, نو, و, ...\n",
       "10198  leisure-hobbies  [نر, کله, برنجی, چتری, سلام, به, دلیل, کمبود, ...\n",
       "10199         vehicles  [پراید, ۱۱۱, سفید, پراید, ۱۱۱, se, سفید, ., مد...\n",
       "\n",
       "[10200 rows x 2 columns]"
      ]
     },
     "execution_count": 18,
     "metadata": {},
     "output_type": "execute_result"
    }
   ],
   "source": [
    "train_dataframe"
   ]
  },
  {
   "cell_type": "code",
   "execution_count": 19,
   "id": "40641f9c",
   "metadata": {},
   "outputs": [],
   "source": [
    "test_dataframe['data'] = test_dataframe['data'].apply(hazm.word_tokenize)"
   ]
  },
  {
   "cell_type": "code",
   "execution_count": 20,
   "id": "f0b85e60",
   "metadata": {},
   "outputs": [
    {
     "data": {
      "text/html": [
       "<div>\n",
       "<style scoped>\n",
       "    .dataframe tbody tr th:only-of-type {\n",
       "        vertical-align: middle;\n",
       "    }\n",
       "\n",
       "    .dataframe tbody tr th {\n",
       "        vertical-align: top;\n",
       "    }\n",
       "\n",
       "    .dataframe thead th {\n",
       "        text-align: right;\n",
       "    }\n",
       "</style>\n",
       "<table border=\"1\" class=\"dataframe\">\n",
       "  <thead>\n",
       "    <tr style=\"text-align: right;\">\n",
       "      <th></th>\n",
       "      <th>categories</th>\n",
       "      <th>data</th>\n",
       "    </tr>\n",
       "  </thead>\n",
       "  <tbody>\n",
       "    <tr>\n",
       "      <th>0</th>\n",
       "      <td>personal</td>\n",
       "      <td>[کیف, مجلسی, نو, کیف, مجلسی, نوی, نو]</td>\n",
       "    </tr>\n",
       "    <tr>\n",
       "      <th>1</th>\n",
       "      <td>for-the-home</td>\n",
       "      <td>[دیوار, کوب, نمدی, تزیینی, مناسب, برای, جهاز, ...</td>\n",
       "    </tr>\n",
       "    <tr>\n",
       "      <th>2</th>\n",
       "      <td>for-the-home</td>\n",
       "      <td>[دو, تیکه, بسیار, بسیار, تمیز, و, سالم, با, کش...</td>\n",
       "    </tr>\n",
       "    <tr>\n",
       "      <th>3</th>\n",
       "      <td>electronic-devices</td>\n",
       "      <td>[مودم, سلام, مودم, سالم, با, وسایلش, ،, دیگه, ...</td>\n",
       "    </tr>\n",
       "    <tr>\n",
       "      <th>4</th>\n",
       "      <td>leisure-hobbies</td>\n",
       "      <td>[تعداد, ۱۸, عددبوقلمون, به, قیمت, عمده, سلام, ...</td>\n",
       "    </tr>\n",
       "    <tr>\n",
       "      <th>...</th>\n",
       "      <td>...</td>\n",
       "      <td>...</td>\n",
       "    </tr>\n",
       "    <tr>\n",
       "      <th>1795</th>\n",
       "      <td>businesses</td>\n",
       "      <td>[باسکول, ۳۰۰, کیلویی, سالمه, سالمه, بشرط, قیمت...</td>\n",
       "    </tr>\n",
       "    <tr>\n",
       "      <th>1796</th>\n",
       "      <td>businesses</td>\n",
       "      <td>[میز, مدیریتی, با, کنفرانس, میز, مدیریتی, با, ...</td>\n",
       "    </tr>\n",
       "    <tr>\n",
       "      <th>1797</th>\n",
       "      <td>electronic-devices</td>\n",
       "      <td>[باند, aiwa, سالم, ،, با, اسپیکر]</td>\n",
       "    </tr>\n",
       "    <tr>\n",
       "      <th>1798</th>\n",
       "      <td>leisure-hobbies</td>\n",
       "      <td>[عروس, هلندی, مولد, پنج, تا, عروس, هلندی, ،, د...</td>\n",
       "    </tr>\n",
       "    <tr>\n",
       "      <th>1799</th>\n",
       "      <td>personal</td>\n",
       "      <td>[ست, دستباف, دخترانه, یکساله, نو, ست, دخترانه,...</td>\n",
       "    </tr>\n",
       "  </tbody>\n",
       "</table>\n",
       "<p>1800 rows × 2 columns</p>\n",
       "</div>"
      ],
      "text/plain": [
       "              categories                                               data\n",
       "0               personal              [کیف, مجلسی, نو, کیف, مجلسی, نوی, نو]\n",
       "1           for-the-home  [دیوار, کوب, نمدی, تزیینی, مناسب, برای, جهاز, ...\n",
       "2           for-the-home  [دو, تیکه, بسیار, بسیار, تمیز, و, سالم, با, کش...\n",
       "3     electronic-devices  [مودم, سلام, مودم, سالم, با, وسایلش, ،, دیگه, ...\n",
       "4        leisure-hobbies  [تعداد, ۱۸, عددبوقلمون, به, قیمت, عمده, سلام, ...\n",
       "...                  ...                                                ...\n",
       "1795          businesses  [باسکول, ۳۰۰, کیلویی, سالمه, سالمه, بشرط, قیمت...\n",
       "1796          businesses  [میز, مدیریتی, با, کنفرانس, میز, مدیریتی, با, ...\n",
       "1797  electronic-devices                  [باند, aiwa, سالم, ،, با, اسپیکر]\n",
       "1798     leisure-hobbies  [عروس, هلندی, مولد, پنج, تا, عروس, هلندی, ،, د...\n",
       "1799            personal  [ست, دستباف, دخترانه, یکساله, نو, ست, دخترانه,...\n",
       "\n",
       "[1800 rows x 2 columns]"
      ]
     },
     "execution_count": 20,
     "metadata": {},
     "output_type": "execute_result"
    }
   ],
   "source": [
    "test_dataframe"
   ]
  },
  {
   "cell_type": "markdown",
   "id": "385ea618",
   "metadata": {},
   "source": [
    "### remove some words like stop words"
   ]
  },
  {
   "cell_type": "code",
   "execution_count": 21,
   "id": "3898af21",
   "metadata": {},
   "outputs": [],
   "source": [
    "extra_words = ['.', ',', ';', ':', '?', '!', '(', ')', '_', '-', '»', '«', '؟', 'ـ', 'و' ,'،' , 'با' , 'به']"
   ]
  },
  {
   "cell_type": "code",
   "execution_count": 22,
   "id": "773dd332",
   "metadata": {},
   "outputs": [],
   "source": [
    "train_dataframe['data'] = train_dataframe['data'].apply(lambda data : [w for w in data if w not in extra_words])"
   ]
  },
  {
   "cell_type": "code",
   "execution_count": 23,
   "id": "b6da2d9c",
   "metadata": {},
   "outputs": [
    {
     "data": {
      "text/html": [
       "<div>\n",
       "<style scoped>\n",
       "    .dataframe tbody tr th:only-of-type {\n",
       "        vertical-align: middle;\n",
       "    }\n",
       "\n",
       "    .dataframe tbody tr th {\n",
       "        vertical-align: top;\n",
       "    }\n",
       "\n",
       "    .dataframe thead th {\n",
       "        text-align: right;\n",
       "    }\n",
       "</style>\n",
       "<table border=\"1\" class=\"dataframe\">\n",
       "  <thead>\n",
       "    <tr style=\"text-align: right;\">\n",
       "      <th></th>\n",
       "      <th>categories</th>\n",
       "      <th>data</th>\n",
       "    </tr>\n",
       "  </thead>\n",
       "  <tbody>\n",
       "    <tr>\n",
       "      <th>0</th>\n",
       "      <td>leisure-hobbies</td>\n",
       "      <td>[بلبل, خرمایی, سه, عدد, بلبل, خرمایی, سه, ماهه...</td>\n",
       "    </tr>\n",
       "    <tr>\n",
       "      <th>1</th>\n",
       "      <td>leisure-hobbies</td>\n",
       "      <td>[عینک, اسکی, در, حد, عینک, اسکی, دبل, لنز, مار...</td>\n",
       "    </tr>\n",
       "    <tr>\n",
       "      <th>2</th>\n",
       "      <td>vehicles</td>\n",
       "      <td>[تکیه, سر, تویوتا, پرادو, پارچه‌ای, سالم, تمیز]</td>\n",
       "    </tr>\n",
       "    <tr>\n",
       "      <th>3</th>\n",
       "      <td>for-the-home</td>\n",
       "      <td>[مجسمه, کریستال, ۲۴, ٪, مجسمه, دکوری, کریستال,...</td>\n",
       "    </tr>\n",
       "    <tr>\n",
       "      <th>4</th>\n",
       "      <td>personal</td>\n",
       "      <td>[کیف, ساک, هر, ۲, کاملا, تمیز, هستند]</td>\n",
       "    </tr>\n",
       "    <tr>\n",
       "      <th>...</th>\n",
       "      <td>...</td>\n",
       "      <td>...</td>\n",
       "    </tr>\n",
       "    <tr>\n",
       "      <th>10195</th>\n",
       "      <td>vehicles</td>\n",
       "      <td>[ان, هاش, ۸۵, نیمه, دوم, همه, چی, شرط, در, حد,...</td>\n",
       "    </tr>\n",
       "    <tr>\n",
       "      <th>10196</th>\n",
       "      <td>vehicles</td>\n",
       "      <td>[۴۰۵, دوگانه, کارخانه, تمیز, فابریک, ۴, حلقه, ...</td>\n",
       "    </tr>\n",
       "    <tr>\n",
       "      <th>10197</th>\n",
       "      <td>for-the-home</td>\n",
       "      <td>[بخاری, گازی, دودکش, دار, پلار, بخاری, نو, بسی...</td>\n",
       "    </tr>\n",
       "    <tr>\n",
       "      <th>10198</th>\n",
       "      <td>leisure-hobbies</td>\n",
       "      <td>[نر, کله, برنجی, چتری, سلام, دلیل, کمبود, جا, ...</td>\n",
       "    </tr>\n",
       "    <tr>\n",
       "      <th>10199</th>\n",
       "      <td>vehicles</td>\n",
       "      <td>[پراید, ۱۱۱, سفید, پراید, ۱۱۱, se, سفید, مدل, ...</td>\n",
       "    </tr>\n",
       "  </tbody>\n",
       "</table>\n",
       "<p>10200 rows × 2 columns</p>\n",
       "</div>"
      ],
      "text/plain": [
       "            categories                                               data\n",
       "0      leisure-hobbies  [بلبل, خرمایی, سه, عدد, بلبل, خرمایی, سه, ماهه...\n",
       "1      leisure-hobbies  [عینک, اسکی, در, حد, عینک, اسکی, دبل, لنز, مار...\n",
       "2             vehicles    [تکیه, سر, تویوتا, پرادو, پارچه‌ای, سالم, تمیز]\n",
       "3         for-the-home  [مجسمه, کریستال, ۲۴, ٪, مجسمه, دکوری, کریستال,...\n",
       "4             personal              [کیف, ساک, هر, ۲, کاملا, تمیز, هستند]\n",
       "...                ...                                                ...\n",
       "10195         vehicles  [ان, هاش, ۸۵, نیمه, دوم, همه, چی, شرط, در, حد,...\n",
       "10196         vehicles  [۴۰۵, دوگانه, کارخانه, تمیز, فابریک, ۴, حلقه, ...\n",
       "10197     for-the-home  [بخاری, گازی, دودکش, دار, پلار, بخاری, نو, بسی...\n",
       "10198  leisure-hobbies  [نر, کله, برنجی, چتری, سلام, دلیل, کمبود, جا, ...\n",
       "10199         vehicles  [پراید, ۱۱۱, سفید, پراید, ۱۱۱, se, سفید, مدل, ...\n",
       "\n",
       "[10200 rows x 2 columns]"
      ]
     },
     "execution_count": 23,
     "metadata": {},
     "output_type": "execute_result"
    }
   ],
   "source": [
    "train_dataframe"
   ]
  },
  {
   "cell_type": "code",
   "execution_count": 24,
   "id": "23d4c5a4",
   "metadata": {},
   "outputs": [],
   "source": [
    "test_dataframe['data'] = test_dataframe['data'].apply(lambda data : [w for w in data if w not in extra_words])"
   ]
  },
  {
   "cell_type": "code",
   "execution_count": 25,
   "id": "8eca32b0",
   "metadata": {},
   "outputs": [
    {
     "data": {
      "text/html": [
       "<div>\n",
       "<style scoped>\n",
       "    .dataframe tbody tr th:only-of-type {\n",
       "        vertical-align: middle;\n",
       "    }\n",
       "\n",
       "    .dataframe tbody tr th {\n",
       "        vertical-align: top;\n",
       "    }\n",
       "\n",
       "    .dataframe thead th {\n",
       "        text-align: right;\n",
       "    }\n",
       "</style>\n",
       "<table border=\"1\" class=\"dataframe\">\n",
       "  <thead>\n",
       "    <tr style=\"text-align: right;\">\n",
       "      <th></th>\n",
       "      <th>categories</th>\n",
       "      <th>data</th>\n",
       "    </tr>\n",
       "  </thead>\n",
       "  <tbody>\n",
       "    <tr>\n",
       "      <th>0</th>\n",
       "      <td>personal</td>\n",
       "      <td>[کیف, مجلسی, نو, کیف, مجلسی, نوی, نو]</td>\n",
       "    </tr>\n",
       "    <tr>\n",
       "      <th>1</th>\n",
       "      <td>for-the-home</td>\n",
       "      <td>[دیوار, کوب, نمدی, تزیینی, مناسب, برای, جهاز, ...</td>\n",
       "    </tr>\n",
       "    <tr>\n",
       "      <th>2</th>\n",
       "      <td>for-the-home</td>\n",
       "      <td>[دو, تیکه, بسیار, بسیار, تمیز, سالم, کشوی, مخف...</td>\n",
       "    </tr>\n",
       "    <tr>\n",
       "      <th>3</th>\n",
       "      <td>electronic-devices</td>\n",
       "      <td>[مودم, سلام, مودم, سالم, وسایلش, دیگه, ب, کارم...</td>\n",
       "    </tr>\n",
       "    <tr>\n",
       "      <th>4</th>\n",
       "      <td>leisure-hobbies</td>\n",
       "      <td>[تعداد, ۱۸, عددبوقلمون, قیمت, عمده, سلام, تعدا...</td>\n",
       "    </tr>\n",
       "    <tr>\n",
       "      <th>...</th>\n",
       "      <td>...</td>\n",
       "      <td>...</td>\n",
       "    </tr>\n",
       "    <tr>\n",
       "      <th>1795</th>\n",
       "      <td>businesses</td>\n",
       "      <td>[باسکول, ۳۰۰, کیلویی, سالمه, سالمه, بشرط, قیمت...</td>\n",
       "    </tr>\n",
       "    <tr>\n",
       "      <th>1796</th>\n",
       "      <td>businesses</td>\n",
       "      <td>[میز, مدیریتی, کنفرانس, میز, مدیریتی, کنفرانس,...</td>\n",
       "    </tr>\n",
       "    <tr>\n",
       "      <th>1797</th>\n",
       "      <td>electronic-devices</td>\n",
       "      <td>[باند, aiwa, سالم, اسپیکر]</td>\n",
       "    </tr>\n",
       "    <tr>\n",
       "      <th>1798</th>\n",
       "      <td>leisure-hobbies</td>\n",
       "      <td>[عروس, هلندی, مولد, پنج, تا, عروس, هلندی, دو, ...</td>\n",
       "    </tr>\n",
       "    <tr>\n",
       "      <th>1799</th>\n",
       "      <td>personal</td>\n",
       "      <td>[ست, دستباف, دخترانه, یکساله, نو, ست, دخترانه,...</td>\n",
       "    </tr>\n",
       "  </tbody>\n",
       "</table>\n",
       "<p>1800 rows × 2 columns</p>\n",
       "</div>"
      ],
      "text/plain": [
       "              categories                                               data\n",
       "0               personal              [کیف, مجلسی, نو, کیف, مجلسی, نوی, نو]\n",
       "1           for-the-home  [دیوار, کوب, نمدی, تزیینی, مناسب, برای, جهاز, ...\n",
       "2           for-the-home  [دو, تیکه, بسیار, بسیار, تمیز, سالم, کشوی, مخف...\n",
       "3     electronic-devices  [مودم, سلام, مودم, سالم, وسایلش, دیگه, ب, کارم...\n",
       "4        leisure-hobbies  [تعداد, ۱۸, عددبوقلمون, قیمت, عمده, سلام, تعدا...\n",
       "...                  ...                                                ...\n",
       "1795          businesses  [باسکول, ۳۰۰, کیلویی, سالمه, سالمه, بشرط, قیمت...\n",
       "1796          businesses  [میز, مدیریتی, کنفرانس, میز, مدیریتی, کنفرانس,...\n",
       "1797  electronic-devices                         [باند, aiwa, سالم, اسپیکر]\n",
       "1798     leisure-hobbies  [عروس, هلندی, مولد, پنج, تا, عروس, هلندی, دو, ...\n",
       "1799            personal  [ست, دستباف, دخترانه, یکساله, نو, ست, دخترانه,...\n",
       "\n",
       "[1800 rows x 2 columns]"
      ]
     },
     "execution_count": 25,
     "metadata": {},
     "output_type": "execute_result"
    }
   ],
   "source": [
    "test_dataframe"
   ]
  },
  {
   "cell_type": "markdown",
   "id": "eb8843d4",
   "metadata": {},
   "source": [
    "### stemming"
   ]
  },
  {
   "cell_type": "markdown",
   "id": "39851aa1",
   "metadata": {},
   "source": [
    "#### Stemming is the process of reducing a word to its word stem that affixes to suffixes and prefixes or to the roots of words known as a lemma. Stemming is important in natural language understanding (NLU) and natural language processing (NLP)."
   ]
  },
  {
   "cell_type": "code",
   "execution_count": 26,
   "id": "3b64a5fe",
   "metadata": {},
   "outputs": [],
   "source": [
    "stemmed_train_df = copy.deepcopy(train_dataframe)\n",
    "stemmed_test_df = copy.deepcopy(test_dataframe)"
   ]
  },
  {
   "cell_type": "code",
   "execution_count": 27,
   "id": "c6d101dc",
   "metadata": {},
   "outputs": [],
   "source": [
    "stemmer = hazm.Stemmer()"
   ]
  },
  {
   "cell_type": "code",
   "execution_count": 28,
   "id": "12802c07",
   "metadata": {},
   "outputs": [],
   "source": [
    "stemmed_train_df['data'] = stemmed_train_df['data'].apply(lambda data : [stemmer.stem(w) for w in data])"
   ]
  },
  {
   "cell_type": "code",
   "execution_count": 29,
   "id": "72c7b6ad",
   "metadata": {},
   "outputs": [
    {
     "data": {
      "text/html": [
       "<div>\n",
       "<style scoped>\n",
       "    .dataframe tbody tr th:only-of-type {\n",
       "        vertical-align: middle;\n",
       "    }\n",
       "\n",
       "    .dataframe tbody tr th {\n",
       "        vertical-align: top;\n",
       "    }\n",
       "\n",
       "    .dataframe thead th {\n",
       "        text-align: right;\n",
       "    }\n",
       "</style>\n",
       "<table border=\"1\" class=\"dataframe\">\n",
       "  <thead>\n",
       "    <tr style=\"text-align: right;\">\n",
       "      <th></th>\n",
       "      <th>categories</th>\n",
       "      <th>data</th>\n",
       "    </tr>\n",
       "  </thead>\n",
       "  <tbody>\n",
       "    <tr>\n",
       "      <th>0</th>\n",
       "      <td>leisure-hobbies</td>\n",
       "      <td>[بلبل, خرما, سه, عدد, بلبل, خرما, سه, ماهه, از...</td>\n",
       "    </tr>\n",
       "    <tr>\n",
       "      <th>1</th>\n",
       "      <td>leisure-hobbies</td>\n",
       "      <td>[عینک, اسک, در, حد, عینک, اسک, دبل, لنز, مارک,...</td>\n",
       "    </tr>\n",
       "    <tr>\n",
       "      <th>2</th>\n",
       "      <td>vehicles</td>\n",
       "      <td>[تکیه, سر, تویوتا, پرادو, پارچه, سال, تمیز]</td>\n",
       "    </tr>\n",
       "    <tr>\n",
       "      <th>3</th>\n",
       "      <td>for-the-home</td>\n",
       "      <td>[مجسمه, کریستال, ۲۴, ٪, مجسمه, دکور, کریستال, ...</td>\n",
       "    </tr>\n",
       "    <tr>\n",
       "      <th>4</th>\n",
       "      <td>personal</td>\n",
       "      <td>[کیف, ساک, هر, ۲, کاملا, تمیز, هستند]</td>\n",
       "    </tr>\n",
       "    <tr>\n",
       "      <th>...</th>\n",
       "      <td>...</td>\n",
       "      <td>...</td>\n",
       "    </tr>\n",
       "    <tr>\n",
       "      <th>10195</th>\n",
       "      <td>vehicles</td>\n",
       "      <td>[, , ۸۵, نیمه, دو, همه, چ, شرط, در, حد, خشک, ۲...</td>\n",
       "    </tr>\n",
       "    <tr>\n",
       "      <th>10196</th>\n",
       "      <td>vehicles</td>\n",
       "      <td>[۴۰۵, دوگانه, کارخانه, تمیز, فابریک, ۴, حلقه, ...</td>\n",
       "    </tr>\n",
       "    <tr>\n",
       "      <th>10197</th>\n",
       "      <td>for-the-home</td>\n",
       "      <td>[بخار, گاز, دودک, دار, پلار, بخار, نو, بسیار, ...</td>\n",
       "    </tr>\n",
       "    <tr>\n",
       "      <th>10198</th>\n",
       "      <td>leisure-hobbies</td>\n",
       "      <td>[نر, کله, برنج, چتر, سلا, دلیل, کمبود, جا, واس...</td>\n",
       "    </tr>\n",
       "    <tr>\n",
       "      <th>10199</th>\n",
       "      <td>vehicles</td>\n",
       "      <td>[پراید, ۱۱۱, سفید, پراید, ۱۱۱, se, سفید, مدل, ...</td>\n",
       "    </tr>\n",
       "  </tbody>\n",
       "</table>\n",
       "<p>10200 rows × 2 columns</p>\n",
       "</div>"
      ],
      "text/plain": [
       "            categories                                               data\n",
       "0      leisure-hobbies  [بلبل, خرما, سه, عدد, بلبل, خرما, سه, ماهه, از...\n",
       "1      leisure-hobbies  [عینک, اسک, در, حد, عینک, اسک, دبل, لنز, مارک,...\n",
       "2             vehicles        [تکیه, سر, تویوتا, پرادو, پارچه, سال, تمیز]\n",
       "3         for-the-home  [مجسمه, کریستال, ۲۴, ٪, مجسمه, دکور, کریستال, ...\n",
       "4             personal              [کیف, ساک, هر, ۲, کاملا, تمیز, هستند]\n",
       "...                ...                                                ...\n",
       "10195         vehicles  [, , ۸۵, نیمه, دو, همه, چ, شرط, در, حد, خشک, ۲...\n",
       "10196         vehicles  [۴۰۵, دوگانه, کارخانه, تمیز, فابریک, ۴, حلقه, ...\n",
       "10197     for-the-home  [بخار, گاز, دودک, دار, پلار, بخار, نو, بسیار, ...\n",
       "10198  leisure-hobbies  [نر, کله, برنج, چتر, سلا, دلیل, کمبود, جا, واس...\n",
       "10199         vehicles  [پراید, ۱۱۱, سفید, پراید, ۱۱۱, se, سفید, مدل, ...\n",
       "\n",
       "[10200 rows x 2 columns]"
      ]
     },
     "execution_count": 29,
     "metadata": {},
     "output_type": "execute_result"
    }
   ],
   "source": [
    "stemmed_train_df"
   ]
  },
  {
   "cell_type": "code",
   "execution_count": 30,
   "id": "4454d118",
   "metadata": {},
   "outputs": [],
   "source": [
    "stemmed_test_df['data'] = stemmed_test_df['data'].apply(lambda data : [stemmer.stem(w) for w in data])"
   ]
  },
  {
   "cell_type": "code",
   "execution_count": 31,
   "id": "f7f3cb0a",
   "metadata": {},
   "outputs": [
    {
     "data": {
      "text/html": [
       "<div>\n",
       "<style scoped>\n",
       "    .dataframe tbody tr th:only-of-type {\n",
       "        vertical-align: middle;\n",
       "    }\n",
       "\n",
       "    .dataframe tbody tr th {\n",
       "        vertical-align: top;\n",
       "    }\n",
       "\n",
       "    .dataframe thead th {\n",
       "        text-align: right;\n",
       "    }\n",
       "</style>\n",
       "<table border=\"1\" class=\"dataframe\">\n",
       "  <thead>\n",
       "    <tr style=\"text-align: right;\">\n",
       "      <th></th>\n",
       "      <th>categories</th>\n",
       "      <th>data</th>\n",
       "    </tr>\n",
       "  </thead>\n",
       "  <tbody>\n",
       "    <tr>\n",
       "      <th>0</th>\n",
       "      <td>personal</td>\n",
       "      <td>[کیف, مجلس, نو, کیف, مجلس, نو, نو]</td>\n",
       "    </tr>\n",
       "    <tr>\n",
       "      <th>1</th>\n",
       "      <td>for-the-home</td>\n",
       "      <td>[دیوار, کوب, نمد, تزیین, مناسب, برا, جهاز, عروس]</td>\n",
       "    </tr>\n",
       "    <tr>\n",
       "      <th>2</th>\n",
       "      <td>for-the-home</td>\n",
       "      <td>[دو, تیکه, بسیار, بسیار, تمیز, سال, کشو, مخف, ...</td>\n",
       "    </tr>\n",
       "    <tr>\n",
       "      <th>3</th>\n",
       "      <td>electronic-devices</td>\n",
       "      <td>[مود, سلا, مود, سال, وسایل, دیگه, ب, کار, نمیا...</td>\n",
       "    </tr>\n",
       "    <tr>\n",
       "      <th>4</th>\n",
       "      <td>leisure-hobbies</td>\n",
       "      <td>[تعداد, ۱۸, عددبوقلمون, قیم, عمده, سلا, تعدا, ...</td>\n",
       "    </tr>\n",
       "    <tr>\n",
       "      <th>...</th>\n",
       "      <td>...</td>\n",
       "      <td>...</td>\n",
       "    </tr>\n",
       "    <tr>\n",
       "      <th>1795</th>\n",
       "      <td>businesses</td>\n",
       "      <td>[باسکول, ۳۰۰, کیلو, سالمه, سالمه, بشرط, قیم, ن...</td>\n",
       "    </tr>\n",
       "    <tr>\n",
       "      <th>1796</th>\n",
       "      <td>businesses</td>\n",
       "      <td>[میز, مدیریت, کنفرانس, میز, مدیریت, کنفرانس, ت...</td>\n",
       "    </tr>\n",
       "    <tr>\n",
       "      <th>1797</th>\n",
       "      <td>electronic-devices</td>\n",
       "      <td>[باند, aiwa, سال, اسپیکر]</td>\n",
       "    </tr>\n",
       "    <tr>\n",
       "      <th>1798</th>\n",
       "      <td>leisure-hobbies</td>\n",
       "      <td>[عروس, هلند, مولد, پنج, تا, عروس, هلند, دو, جف...</td>\n",
       "    </tr>\n",
       "    <tr>\n",
       "      <th>1799</th>\n",
       "      <td>personal</td>\n",
       "      <td>[س, دستباف, دخترانه, یکساله, نو, س, دخترانه, ت...</td>\n",
       "    </tr>\n",
       "  </tbody>\n",
       "</table>\n",
       "<p>1800 rows × 2 columns</p>\n",
       "</div>"
      ],
      "text/plain": [
       "              categories                                               data\n",
       "0               personal                 [کیف, مجلس, نو, کیف, مجلس, نو, نو]\n",
       "1           for-the-home   [دیوار, کوب, نمد, تزیین, مناسب, برا, جهاز, عروس]\n",
       "2           for-the-home  [دو, تیکه, بسیار, بسیار, تمیز, سال, کشو, مخف, ...\n",
       "3     electronic-devices  [مود, سلا, مود, سال, وسایل, دیگه, ب, کار, نمیا...\n",
       "4        leisure-hobbies  [تعداد, ۱۸, عددبوقلمون, قیم, عمده, سلا, تعدا, ...\n",
       "...                  ...                                                ...\n",
       "1795          businesses  [باسکول, ۳۰۰, کیلو, سالمه, سالمه, بشرط, قیم, ن...\n",
       "1796          businesses  [میز, مدیریت, کنفرانس, میز, مدیریت, کنفرانس, ت...\n",
       "1797  electronic-devices                          [باند, aiwa, سال, اسپیکر]\n",
       "1798     leisure-hobbies  [عروس, هلند, مولد, پنج, تا, عروس, هلند, دو, جف...\n",
       "1799            personal  [س, دستباف, دخترانه, یکساله, نو, س, دخترانه, ت...\n",
       "\n",
       "[1800 rows x 2 columns]"
      ]
     },
     "execution_count": 31,
     "metadata": {},
     "output_type": "execute_result"
    }
   ],
   "source": [
    "stemmed_test_df"
   ]
  },
  {
   "cell_type": "markdown",
   "id": "a5c49620",
   "metadata": {},
   "source": [
    "### lemmatization"
   ]
  },
  {
   "cell_type": "markdown",
   "id": "bfde11b3",
   "metadata": {},
   "source": [
    "#### Lemmatization is the process of converting a word to its base form. The difference between stemming and lemmatization is, lemmatization considers the context and converts the word to its meaningful base form, whereas stemming just removes the last few characters, often leading to incorrect meanings and spelling errors."
   ]
  },
  {
   "cell_type": "code",
   "execution_count": 32,
   "id": "5ad83dbd",
   "metadata": {},
   "outputs": [],
   "source": [
    "lemmatized_train_df = copy.deepcopy(train_dataframe)\n",
    "lemmatized_test_df = copy.deepcopy(test_dataframe)"
   ]
  },
  {
   "cell_type": "code",
   "execution_count": 33,
   "id": "16a0e5ed",
   "metadata": {},
   "outputs": [],
   "source": [
    "lemmatizer = hazm.Lemmatizer()"
   ]
  },
  {
   "cell_type": "code",
   "execution_count": 34,
   "id": "bee4fac2",
   "metadata": {},
   "outputs": [],
   "source": [
    "lemmatized_train_df['data'] = lemmatized_train_df['data'].apply(lambda data : [lemmatizer.lemmatize(w) for w in data])"
   ]
  },
  {
   "cell_type": "code",
   "execution_count": 35,
   "id": "f9d5f2ea",
   "metadata": {},
   "outputs": [
    {
     "data": {
      "text/html": [
       "<div>\n",
       "<style scoped>\n",
       "    .dataframe tbody tr th:only-of-type {\n",
       "        vertical-align: middle;\n",
       "    }\n",
       "\n",
       "    .dataframe tbody tr th {\n",
       "        vertical-align: top;\n",
       "    }\n",
       "\n",
       "    .dataframe thead th {\n",
       "        text-align: right;\n",
       "    }\n",
       "</style>\n",
       "<table border=\"1\" class=\"dataframe\">\n",
       "  <thead>\n",
       "    <tr style=\"text-align: right;\">\n",
       "      <th></th>\n",
       "      <th>categories</th>\n",
       "      <th>data</th>\n",
       "    </tr>\n",
       "  </thead>\n",
       "  <tbody>\n",
       "    <tr>\n",
       "      <th>0</th>\n",
       "      <td>leisure-hobbies</td>\n",
       "      <td>[بلبل, خرما, سه, عدد, بلبل, خرما, سه, ماهه, از...</td>\n",
       "    </tr>\n",
       "    <tr>\n",
       "      <th>1</th>\n",
       "      <td>leisure-hobbies</td>\n",
       "      <td>[عینک, اسکی, در, حد, عینک, اسکی, دبل, لنز, مار...</td>\n",
       "    </tr>\n",
       "    <tr>\n",
       "      <th>2</th>\n",
       "      <td>vehicles</td>\n",
       "      <td>[تکیه, سر, تویوتا, پرادو, پارچه, سالم, تمیز]</td>\n",
       "    </tr>\n",
       "    <tr>\n",
       "      <th>3</th>\n",
       "      <td>for-the-home</td>\n",
       "      <td>[مجسمه, کریستال, ۲۴, ٪, مجسمه, دکوری, کریستال,...</td>\n",
       "    </tr>\n",
       "    <tr>\n",
       "      <th>4</th>\n",
       "      <td>personal</td>\n",
       "      <td>[کیف, ساک, هر, ۲, کاملا, تمیز, #هست]</td>\n",
       "    </tr>\n",
       "    <tr>\n",
       "      <th>...</th>\n",
       "      <td>...</td>\n",
       "      <td>...</td>\n",
       "    </tr>\n",
       "    <tr>\n",
       "      <th>10195</th>\n",
       "      <td>vehicles</td>\n",
       "      <td>[ان, هاش, ۸۵, نیمه, دوم, همه, چی, شرط, در, حد,...</td>\n",
       "    </tr>\n",
       "    <tr>\n",
       "      <th>10196</th>\n",
       "      <td>vehicles</td>\n",
       "      <td>[۴۰۵, دوگانه, کارخانه, تمیز, فابریک, ۴, حلقه, ...</td>\n",
       "    </tr>\n",
       "    <tr>\n",
       "      <th>10197</th>\n",
       "      <td>for-the-home</td>\n",
       "      <td>[بخاری, گازی, دودکش, دار, پلار, بخاری, نو, بسی...</td>\n",
       "    </tr>\n",
       "    <tr>\n",
       "      <th>10198</th>\n",
       "      <td>leisure-hobbies</td>\n",
       "      <td>[نر, کله, برنجی, چتر, سلام, دلیل, کمبود, جا, و...</td>\n",
       "    </tr>\n",
       "    <tr>\n",
       "      <th>10199</th>\n",
       "      <td>vehicles</td>\n",
       "      <td>[پراید, ۱۱۱, سفید, پراید, ۱۱۱, se, سفید, مدل, ...</td>\n",
       "    </tr>\n",
       "  </tbody>\n",
       "</table>\n",
       "<p>10200 rows × 2 columns</p>\n",
       "</div>"
      ],
      "text/plain": [
       "            categories                                               data\n",
       "0      leisure-hobbies  [بلبل, خرما, سه, عدد, بلبل, خرما, سه, ماهه, از...\n",
       "1      leisure-hobbies  [عینک, اسکی, در, حد, عینک, اسکی, دبل, لنز, مار...\n",
       "2             vehicles       [تکیه, سر, تویوتا, پرادو, پارچه, سالم, تمیز]\n",
       "3         for-the-home  [مجسمه, کریستال, ۲۴, ٪, مجسمه, دکوری, کریستال,...\n",
       "4             personal               [کیف, ساک, هر, ۲, کاملا, تمیز, #هست]\n",
       "...                ...                                                ...\n",
       "10195         vehicles  [ان, هاش, ۸۵, نیمه, دوم, همه, چی, شرط, در, حد,...\n",
       "10196         vehicles  [۴۰۵, دوگانه, کارخانه, تمیز, فابریک, ۴, حلقه, ...\n",
       "10197     for-the-home  [بخاری, گازی, دودکش, دار, پلار, بخاری, نو, بسی...\n",
       "10198  leisure-hobbies  [نر, کله, برنجی, چتر, سلام, دلیل, کمبود, جا, و...\n",
       "10199         vehicles  [پراید, ۱۱۱, سفید, پراید, ۱۱۱, se, سفید, مدل, ...\n",
       "\n",
       "[10200 rows x 2 columns]"
      ]
     },
     "execution_count": 35,
     "metadata": {},
     "output_type": "execute_result"
    }
   ],
   "source": [
    "lemmatized_train_df"
   ]
  },
  {
   "cell_type": "code",
   "execution_count": 36,
   "id": "b2c498f0",
   "metadata": {},
   "outputs": [],
   "source": [
    "lemmatized_test_df['data'] = lemmatized_test_df['data'].apply(lambda data : [lemmatizer.lemmatize(w) for w in data])"
   ]
  },
  {
   "cell_type": "code",
   "execution_count": 37,
   "id": "b797b2ef",
   "metadata": {},
   "outputs": [
    {
     "data": {
      "text/html": [
       "<div>\n",
       "<style scoped>\n",
       "    .dataframe tbody tr th:only-of-type {\n",
       "        vertical-align: middle;\n",
       "    }\n",
       "\n",
       "    .dataframe tbody tr th {\n",
       "        vertical-align: top;\n",
       "    }\n",
       "\n",
       "    .dataframe thead th {\n",
       "        text-align: right;\n",
       "    }\n",
       "</style>\n",
       "<table border=\"1\" class=\"dataframe\">\n",
       "  <thead>\n",
       "    <tr style=\"text-align: right;\">\n",
       "      <th></th>\n",
       "      <th>categories</th>\n",
       "      <th>data</th>\n",
       "    </tr>\n",
       "  </thead>\n",
       "  <tbody>\n",
       "    <tr>\n",
       "      <th>0</th>\n",
       "      <td>personal</td>\n",
       "      <td>[کیف, مجلس, نو, کیف, مجلس, نو, نو]</td>\n",
       "    </tr>\n",
       "    <tr>\n",
       "      <th>1</th>\n",
       "      <td>for-the-home</td>\n",
       "      <td>[دیوار, کوب, نمد, تزیین, مناسب, برای, جهاز, عروس]</td>\n",
       "    </tr>\n",
       "    <tr>\n",
       "      <th>2</th>\n",
       "      <td>for-the-home</td>\n",
       "      <td>[دو, تیکه, بسیار, بسیار, تمیز, سالم, کشو, مخفی...</td>\n",
       "    </tr>\n",
       "    <tr>\n",
       "      <th>3</th>\n",
       "      <td>electronic-devices</td>\n",
       "      <td>[مودم, سلام, مودم, سالم, وسایل, دیگه, ب, کاشت#...</td>\n",
       "    </tr>\n",
       "    <tr>\n",
       "      <th>4</th>\n",
       "      <td>leisure-hobbies</td>\n",
       "      <td>[تعداد, ۱۸, عددبوقلمون, قیمت, عمده, سلام, تعدا...</td>\n",
       "    </tr>\n",
       "    <tr>\n",
       "      <th>...</th>\n",
       "      <td>...</td>\n",
       "      <td>...</td>\n",
       "    </tr>\n",
       "    <tr>\n",
       "      <th>1795</th>\n",
       "      <td>businesses</td>\n",
       "      <td>[باسکول, ۳۰۰, کیلویی, سالمه, سالمه, بشرط, قیمت...</td>\n",
       "    </tr>\n",
       "    <tr>\n",
       "      <th>1796</th>\n",
       "      <td>businesses</td>\n",
       "      <td>[میز, مدیریت, کنفرانس, میز, مدیریت, کنفرانس, ت...</td>\n",
       "    </tr>\n",
       "    <tr>\n",
       "      <th>1797</th>\n",
       "      <td>electronic-devices</td>\n",
       "      <td>[باند, aiwa, سالم, اسپیکر]</td>\n",
       "    </tr>\n",
       "    <tr>\n",
       "      <th>1798</th>\n",
       "      <td>leisure-hobbies</td>\n",
       "      <td>[عروس, هلند, مولد, پنج, تا, عروس, هلند, دو, جف...</td>\n",
       "    </tr>\n",
       "    <tr>\n",
       "      <th>1799</th>\n",
       "      <td>personal</td>\n",
       "      <td>[ست, دستباف, دخترانه, یکساله, نو, ست, دخترانه,...</td>\n",
       "    </tr>\n",
       "  </tbody>\n",
       "</table>\n",
       "<p>1800 rows × 2 columns</p>\n",
       "</div>"
      ],
      "text/plain": [
       "              categories                                               data\n",
       "0               personal                 [کیف, مجلس, نو, کیف, مجلس, نو, نو]\n",
       "1           for-the-home  [دیوار, کوب, نمد, تزیین, مناسب, برای, جهاز, عروس]\n",
       "2           for-the-home  [دو, تیکه, بسیار, بسیار, تمیز, سالم, کشو, مخفی...\n",
       "3     electronic-devices  [مودم, سلام, مودم, سالم, وسایل, دیگه, ب, کاشت#...\n",
       "4        leisure-hobbies  [تعداد, ۱۸, عددبوقلمون, قیمت, عمده, سلام, تعدا...\n",
       "...                  ...                                                ...\n",
       "1795          businesses  [باسکول, ۳۰۰, کیلویی, سالمه, سالمه, بشرط, قیمت...\n",
       "1796          businesses  [میز, مدیریت, کنفرانس, میز, مدیریت, کنفرانس, ت...\n",
       "1797  electronic-devices                         [باند, aiwa, سالم, اسپیکر]\n",
       "1798     leisure-hobbies  [عروس, هلند, مولد, پنج, تا, عروس, هلند, دو, جف...\n",
       "1799            personal  [ست, دستباف, دخترانه, یکساله, نو, ست, دخترانه,...\n",
       "\n",
       "[1800 rows x 2 columns]"
      ]
     },
     "execution_count": 37,
     "metadata": {},
     "output_type": "execute_result"
    }
   ],
   "source": [
    "lemmatized_test_df"
   ]
  },
  {
   "cell_type": "markdown",
   "id": "304961c0",
   "metadata": {},
   "source": [
    "## Problem Process"
   ]
  },
  {
   "cell_type": "markdown",
   "id": "1e25280b",
   "metadata": {},
   "source": [
    "### Posterior : Probability of being a member of a particular class provided a particular word occurs\n",
    "#### It is calculated using the formula and values of Likelihood and Prior"
   ]
  },
  {
   "cell_type": "markdown",
   "id": "ca34e674",
   "metadata": {},
   "source": [
    "### Prior : Probability of being a member of a particular class\n",
    "#### It is calculated using the Train Data"
   ]
  },
  {
   "cell_type": "markdown",
   "id": "12f42d09",
   "metadata": {},
   "source": [
    "### Likelihood : Probability of a particular word occurring in a particular class\n",
    "#### It is calculated using the Train Data"
   ]
  },
  {
   "cell_type": "markdown",
   "id": "50ec93e9",
   "metadata": {},
   "source": [
    "### Evidence : Probability of a particular word occurring\n",
    "#### We dont need to calculate this"
   ]
  },
  {
   "cell_type": "markdown",
   "id": "30498814",
   "metadata": {},
   "source": [
    "## Calculate Probabilities"
   ]
  },
  {
   "cell_type": "code",
   "execution_count": 38,
   "id": "35bffb3c",
   "metadata": {},
   "outputs": [],
   "source": [
    "grouped = train_dataframe.groupby(train_dataframe['categories'])"
   ]
  },
  {
   "cell_type": "code",
   "execution_count": 39,
   "id": "eaee3f90",
   "metadata": {},
   "outputs": [],
   "source": [
    "categories = [[c, 0] for c in train_dataframe['categories'].unique()]"
   ]
  },
  {
   "cell_type": "code",
   "execution_count": 40,
   "id": "23de3e0c",
   "metadata": {},
   "outputs": [],
   "source": [
    "count = list(train_dataframe.value_counts('categories'))"
   ]
  },
  {
   "cell_type": "code",
   "execution_count": 41,
   "id": "d2c64eee",
   "metadata": {},
   "outputs": [],
   "source": [
    "for i in range(0, len(categories)):\n",
    "    categories[i][1] = count[i]"
   ]
  },
  {
   "cell_type": "code",
   "execution_count": 42,
   "id": "0f1f2244",
   "metadata": {
    "scrolled": true
   },
   "outputs": [
    {
     "data": {
      "text/plain": [
       "[['leisure-hobbies', 1700],\n",
       " ['vehicles', 1700],\n",
       " ['for-the-home', 1700],\n",
       " ['personal', 1700],\n",
       " ['electronic-devices', 1700],\n",
       " ['businesses', 1700]]"
      ]
     },
     "execution_count": 42,
     "metadata": {},
     "output_type": "execute_result"
    }
   ],
   "source": [
    "categories"
   ]
  },
  {
   "cell_type": "code",
   "execution_count": 43,
   "id": "eded4359",
   "metadata": {},
   "outputs": [],
   "source": [
    "grouped_train_df = []\n",
    "for category in categories:\n",
    "    grouped_train_df.append([category[0], grouped.get_group(category[0])])"
   ]
  },
  {
   "cell_type": "code",
   "execution_count": 44,
   "id": "67d6d1a0",
   "metadata": {},
   "outputs": [
    {
     "name": "stdout",
     "output_type": "stream",
     "text": [
      "category : leisure-hobbies\n",
      "            categories                                               data\n",
      "0      leisure-hobbies  [بلبل, خرمایی, سه, عدد, بلبل, خرمایی, سه, ماهه...\n",
      "1      leisure-hobbies  [عینک, اسکی, در, حد, عینک, اسکی, دبل, لنز, مار...\n",
      "6      leisure-hobbies  [فروش, دوچرخه, ۲۰, بخاطر, جابجایی, قصد, فروش, ...\n",
      "9      leisure-hobbies  [چادر, ١٠, نفره, نونونو, قیمت, مناسب, چادر, ده...\n",
      "12     leisure-hobbies     [کبوتر, سفید, باسلام, یک, سفید, نر, پرشی, هست]\n",
      "...                ...                                                ...\n",
      "10181  leisure-hobbies  [دوچرخه, طبی, دوچرخه, طبی, پزشکی, قوی, محکم, ش...\n",
      "10189  leisure-hobbies  [دوچرخه, بیست, دنده‌ای, دوچرخه, بیست, دنده‌ای,...\n",
      "10190  leisure-hobbies                    [کتاب, درسی, ۱۳۳۶, فلسفه, منطق]\n",
      "10191  leisure-hobbies  [قفس, پرنده, نو, مخصوص, انواع, پرنده, ابعاد, ۳...\n",
      "10198  leisure-hobbies  [نر, کله, برنجی, چتری, سلام, دلیل, کمبود, جا, ...\n",
      "\n",
      "[1700 rows x 2 columns]\n",
      "category : vehicles\n",
      "      categories                                               data\n",
      "2       vehicles    [تکیه, سر, تویوتا, پرادو, پارچه‌ای, سالم, تمیز]\n",
      "10      vehicles  [قاب, فرمان, دسته, راهنما, یکعدد, دسته, راهنما...\n",
      "11      vehicles  [پراید, مدل, ۸۵, سلام, رنگ, یشمی, بیمه, تا, بر...\n",
      "14      vehicles  [پراید, یشمی, مدل, ۸۰, پراید, یشمی, صندوق, دار...\n",
      "18      vehicles  [امپلی, ۴کانال, MB, امپلی, در, حد, نوووو, MB, ...\n",
      "...          ...                                                ...\n",
      "10193   vehicles  [باربند, پیکان, شرمنده, عکس, نداشتم, بزارم, از...\n",
      "10194   vehicles  [سمند, ۸۸, در, حد, برای, توضیحات, در, مورد, خو...\n",
      "10195   vehicles  [ان, هاش, ۸۵, نیمه, دوم, همه, چی, شرط, در, حد,...\n",
      "10196   vehicles  [۴۰۵, دوگانه, کارخانه, تمیز, فابریک, ۴, حلقه, ...\n",
      "10199   vehicles  [پراید, ۱۱۱, سفید, پراید, ۱۱۱, se, سفید, مدل, ...\n",
      "\n",
      "[1700 rows x 2 columns]\n",
      "category : for-the-home\n",
      "         categories                                               data\n",
      "3      for-the-home  [مجسمه, کریستال, ۲۴, ٪, مجسمه, دکوری, کریستال,...\n",
      "26     for-the-home  [مبلمان, راحتی, راحتی, ۷نفره, همراه, کنسول, می...\n",
      "27     for-the-home                      [تاپ, تاپ, مخصوص, داخل, منزل]\n",
      "31     for-the-home      [چارپایه, فلزی, جایگزین, نردبان, کاملا, سالم]\n",
      "38     for-the-home  [جاروبرقی, انواع, تعمیرات, جاروبرقی, همه, مدل,...\n",
      "...             ...                                                ...\n",
      "10167  for-the-home  [میزتلویزیون, بازدیدعصرها, تلویزیون, هم, فروشی...\n",
      "10170  for-the-home  [ون, یکاد, قیمت, رو, پایین, زدم, ک, زود, بفروش...\n",
      "10172  for-the-home          [بخارشور, بخارشور, یک, لیتری, در, حد, نو]\n",
      "10173  for-the-home  [صندلی, میز, غذاخوری, لئون, مستقیم, بدون, واسط...\n",
      "10197  for-the-home  [بخاری, گازی, دودکش, دار, پلار, بخاری, نو, بسی...\n",
      "\n",
      "[1700 rows x 2 columns]\n",
      "category : personal\n",
      "      categories                                               data\n",
      "4       personal              [کیف, ساک, هر, ۲, کاملا, تمیز, هستند]\n",
      "5       personal  [کمدوبوفه, وسایل, در, حد, نو, مشتری, واقعی, تخ...\n",
      "17      personal  [تاب, بازی, کودک, طرح, کیتی, تاب, بازی, طرح, ک...\n",
      "20      personal  [نیم, پوت, زنانه, سایز, ۴۰, -جنس, کتان-کاردست,...\n",
      "29      personal               [کالسکه, سه, چرخ, مدل, خارجی, ارابه]\n",
      "...          ...                                                ...\n",
      "10162   personal  [لباس, مجلسی, لباس, مجلسی, سبز, رنگ, کاملا, نو...\n",
      "10168   personal  [کفش, پرفکت, استپس, سایز, ۳۸, ۴۴, یک, جفت, زنا...\n",
      "10185   personal  [چمدان, مسافرتی, مارک, جامپ, سایز, کوچک, ساخت,...\n",
      "10187   personal                       [کفش, مجلسی, سایز, ۳۷, نونو]\n",
      "10192   personal  [لباس, عروس, اجاره, لباس, عروس, سایز, ۳۶, تا, ...\n",
      "\n",
      "[1700 rows x 2 columns]\n",
      "category : electronic-devices\n",
      "               categories                                               data\n",
      "7      electronic-devices  [تلویزیون, ال, سی, دی, تلویزیون, سونی, کم, کار...\n",
      "8      electronic-devices          [فروشی, تلویزیون, فروشی, ۲۱, اینچ, اسنوا]\n",
      "13     electronic-devices  [فروش, سونی, یک, فروش, یک, عدد, دستگاه, سونی, ...\n",
      "19     electronic-devices  [گوشی, s۶, edge, رنگ, گولد, سلام, گوشی, سالم, ...\n",
      "22     electronic-devices  [فروش, سیستم, حرفه‌ای, قیمت, مناسب, برای, گرفت...\n",
      "...                   ...                                                ...\n",
      "10157  electronic-devices  [گوشی, هونور, ۳cسفید, سالم, تمیز, فقط, دکمه, ق...\n",
      "10164  electronic-devices       [قاب, ۵/۵, s, قاب, کاملا, تمیز, نو, می‌باشد]\n",
      "10174  electronic-devices  [iPhone, ۶, ۱۶, hands-free, تا, حالا, استفاده,...\n",
      "10183  electronic-devices  [دسته, بازی, بی, سیمی, لب, تاب, کامپیوتر, دوعد...\n",
      "10184  electronic-devices  [گوشی, موبایل, ۶S, سالم, بدون, خط, خش, وضربه, ...\n",
      "\n",
      "[1700 rows x 2 columns]\n",
      "category : businesses\n",
      "       categories                                               data\n",
      "16     businesses  [سبک, جدید, مدرن, تابلوی, رنگ, روغن, قابل, شست...\n",
      "32     businesses           [یخچال, صنعتی, بسیار, سالم, بدنه, استیل]\n",
      "33     businesses  [کفکش, درجه, یک, سالم, یک, عدد, کفکش, سالم, تا...\n",
      "37     businesses  [فروش, قالب, فلزی, جک, صلیبی, لوله, داربست, بو...\n",
      "40     businesses  [مانکن, مردانه, ۶, عدد, مانکن, مردانه, المپیک,...\n",
      "...           ...                                                ...\n",
      "10171  businesses  [یخچال, وفر, ومیزکار, فست, فود$NUM, یک, عدد, ی...\n",
      "10176  businesses  [همزن, مخلوط, کن, همزن, مواد, طوقه, ۵۰, سانتیم...\n",
      "10179  businesses  [دزدگیر, پوشاک, کاملا, سالم, بشرط, تک, آنتن, ح...\n",
      "10180  businesses  [فن, هواکش, تک, فاز, فوق, العاده, قوی, دربازار...\n",
      "10188  businesses  [فروش, دستگاه, بلوک, زنی, فروش, دستگاه, بلوک, ...\n",
      "\n",
      "[1700 rows x 2 columns]\n"
     ]
    }
   ],
   "source": [
    "for df in grouped_train_df:\n",
    "    print(\"category :\", df[0])\n",
    "    print(df[1])"
   ]
  },
  {
   "cell_type": "markdown",
   "id": "352182c3",
   "metadata": {},
   "source": [
    "### As seen above , main dataframe is split according to the categories"
   ]
  },
  {
   "cell_type": "code",
   "execution_count": 45,
   "id": "8e59a026",
   "metadata": {},
   "outputs": [],
   "source": [
    "for group in grouped_train_df:\n",
    "    group[1] = group[1].drop(['categories'], axis = 1)"
   ]
  },
  {
   "cell_type": "code",
   "execution_count": 46,
   "id": "28b02e70",
   "metadata": {},
   "outputs": [
    {
     "name": "stdout",
     "output_type": "stream",
     "text": [
      "category : leisure-hobbies\n",
      "                                                    data\n",
      "0      [بلبل, خرمایی, سه, عدد, بلبل, خرمایی, سه, ماهه...\n",
      "1      [عینک, اسکی, در, حد, عینک, اسکی, دبل, لنز, مار...\n",
      "6      [فروش, دوچرخه, ۲۰, بخاطر, جابجایی, قصد, فروش, ...\n",
      "9      [چادر, ١٠, نفره, نونونو, قیمت, مناسب, چادر, ده...\n",
      "12        [کبوتر, سفید, باسلام, یک, سفید, نر, پرشی, هست]\n",
      "...                                                  ...\n",
      "10181  [دوچرخه, طبی, دوچرخه, طبی, پزشکی, قوی, محکم, ش...\n",
      "10189  [دوچرخه, بیست, دنده‌ای, دوچرخه, بیست, دنده‌ای,...\n",
      "10190                    [کتاب, درسی, ۱۳۳۶, فلسفه, منطق]\n",
      "10191  [قفس, پرنده, نو, مخصوص, انواع, پرنده, ابعاد, ۳...\n",
      "10198  [نر, کله, برنجی, چتری, سلام, دلیل, کمبود, جا, ...\n",
      "\n",
      "[1700 rows x 1 columns]\n",
      "category : vehicles\n",
      "                                                    data\n",
      "2        [تکیه, سر, تویوتا, پرادو, پارچه‌ای, سالم, تمیز]\n",
      "10     [قاب, فرمان, دسته, راهنما, یکعدد, دسته, راهنما...\n",
      "11     [پراید, مدل, ۸۵, سلام, رنگ, یشمی, بیمه, تا, بر...\n",
      "14     [پراید, یشمی, مدل, ۸۰, پراید, یشمی, صندوق, دار...\n",
      "18     [امپلی, ۴کانال, MB, امپلی, در, حد, نوووو, MB, ...\n",
      "...                                                  ...\n",
      "10193  [باربند, پیکان, شرمنده, عکس, نداشتم, بزارم, از...\n",
      "10194  [سمند, ۸۸, در, حد, برای, توضیحات, در, مورد, خو...\n",
      "10195  [ان, هاش, ۸۵, نیمه, دوم, همه, چی, شرط, در, حد,...\n",
      "10196  [۴۰۵, دوگانه, کارخانه, تمیز, فابریک, ۴, حلقه, ...\n",
      "10199  [پراید, ۱۱۱, سفید, پراید, ۱۱۱, se, سفید, مدل, ...\n",
      "\n",
      "[1700 rows x 1 columns]\n",
      "category : for-the-home\n",
      "                                                    data\n",
      "3      [مجسمه, کریستال, ۲۴, ٪, مجسمه, دکوری, کریستال,...\n",
      "26     [مبلمان, راحتی, راحتی, ۷نفره, همراه, کنسول, می...\n",
      "27                         [تاپ, تاپ, مخصوص, داخل, منزل]\n",
      "31         [چارپایه, فلزی, جایگزین, نردبان, کاملا, سالم]\n",
      "38     [جاروبرقی, انواع, تعمیرات, جاروبرقی, همه, مدل,...\n",
      "...                                                  ...\n",
      "10167  [میزتلویزیون, بازدیدعصرها, تلویزیون, هم, فروشی...\n",
      "10170  [ون, یکاد, قیمت, رو, پایین, زدم, ک, زود, بفروش...\n",
      "10172          [بخارشور, بخارشور, یک, لیتری, در, حد, نو]\n",
      "10173  [صندلی, میز, غذاخوری, لئون, مستقیم, بدون, واسط...\n",
      "10197  [بخاری, گازی, دودکش, دار, پلار, بخاری, نو, بسی...\n",
      "\n",
      "[1700 rows x 1 columns]\n",
      "category : personal\n",
      "                                                    data\n",
      "4                  [کیف, ساک, هر, ۲, کاملا, تمیز, هستند]\n",
      "5      [کمدوبوفه, وسایل, در, حد, نو, مشتری, واقعی, تخ...\n",
      "17     [تاب, بازی, کودک, طرح, کیتی, تاب, بازی, طرح, ک...\n",
      "20     [نیم, پوت, زنانه, سایز, ۴۰, -جنس, کتان-کاردست,...\n",
      "29                  [کالسکه, سه, چرخ, مدل, خارجی, ارابه]\n",
      "...                                                  ...\n",
      "10162  [لباس, مجلسی, لباس, مجلسی, سبز, رنگ, کاملا, نو...\n",
      "10168  [کفش, پرفکت, استپس, سایز, ۳۸, ۴۴, یک, جفت, زنا...\n",
      "10185  [چمدان, مسافرتی, مارک, جامپ, سایز, کوچک, ساخت,...\n",
      "10187                       [کفش, مجلسی, سایز, ۳۷, نونو]\n",
      "10192  [لباس, عروس, اجاره, لباس, عروس, سایز, ۳۶, تا, ...\n",
      "\n",
      "[1700 rows x 1 columns]\n",
      "category : electronic-devices\n",
      "                                                    data\n",
      "7      [تلویزیون, ال, سی, دی, تلویزیون, سونی, کم, کار...\n",
      "8              [فروشی, تلویزیون, فروشی, ۲۱, اینچ, اسنوا]\n",
      "13     [فروش, سونی, یک, فروش, یک, عدد, دستگاه, سونی, ...\n",
      "19     [گوشی, s۶, edge, رنگ, گولد, سلام, گوشی, سالم, ...\n",
      "22     [فروش, سیستم, حرفه‌ای, قیمت, مناسب, برای, گرفت...\n",
      "...                                                  ...\n",
      "10157  [گوشی, هونور, ۳cسفید, سالم, تمیز, فقط, دکمه, ق...\n",
      "10164       [قاب, ۵/۵, s, قاب, کاملا, تمیز, نو, می‌باشد]\n",
      "10174  [iPhone, ۶, ۱۶, hands-free, تا, حالا, استفاده,...\n",
      "10183  [دسته, بازی, بی, سیمی, لب, تاب, کامپیوتر, دوعد...\n",
      "10184  [گوشی, موبایل, ۶S, سالم, بدون, خط, خش, وضربه, ...\n",
      "\n",
      "[1700 rows x 1 columns]\n",
      "category : businesses\n",
      "                                                    data\n",
      "16     [سبک, جدید, مدرن, تابلوی, رنگ, روغن, قابل, شست...\n",
      "32              [یخچال, صنعتی, بسیار, سالم, بدنه, استیل]\n",
      "33     [کفکش, درجه, یک, سالم, یک, عدد, کفکش, سالم, تا...\n",
      "37     [فروش, قالب, فلزی, جک, صلیبی, لوله, داربست, بو...\n",
      "40     [مانکن, مردانه, ۶, عدد, مانکن, مردانه, المپیک,...\n",
      "...                                                  ...\n",
      "10171  [یخچال, وفر, ومیزکار, فست, فود$NUM, یک, عدد, ی...\n",
      "10176  [همزن, مخلوط, کن, همزن, مواد, طوقه, ۵۰, سانتیم...\n",
      "10179  [دزدگیر, پوشاک, کاملا, سالم, بشرط, تک, آنتن, ح...\n",
      "10180  [فن, هواکش, تک, فاز, فوق, العاده, قوی, دربازار...\n",
      "10188  [فروش, دستگاه, بلوک, زنی, فروش, دستگاه, بلوک, ...\n",
      "\n",
      "[1700 rows x 1 columns]\n"
     ]
    }
   ],
   "source": [
    "for df in grouped_train_df:\n",
    "    print(\"category :\", df[0])\n",
    "    print(df[1])"
   ]
  },
  {
   "cell_type": "markdown",
   "id": "70c430f4",
   "metadata": {},
   "source": [
    "### delete categories from dataframe"
   ]
  },
  {
   "cell_type": "code",
   "execution_count": 47,
   "id": "765a7b31",
   "metadata": {},
   "outputs": [],
   "source": [
    "g_tr_df = []\n",
    "for df in grouped_train_df:\n",
    "    all_words = [df[0], []]\n",
    "    for data in df[1]['data']:\n",
    "        all_words[1] = all_words[1] + data\n",
    "    g_tr_df.append([all_words[0], pd.DataFrame({'words' : all_words[1]})])\n",
    "    \n",
    "grouped_train_df = g_tr_df"
   ]
  },
  {
   "cell_type": "code",
   "execution_count": 48,
   "id": "ad8d1c38",
   "metadata": {},
   "outputs": [
    {
     "name": "stdout",
     "output_type": "stream",
     "text": [
      "category : leisure-hobbies\n",
      "        words\n",
      "0        بلبل\n",
      "1      خرمایی\n",
      "2          سه\n",
      "3         عدد\n",
      "4        بلبل\n",
      "...       ...\n",
      "31913    لطفا\n",
      "31914   مشتری\n",
      "31915   واقعی\n",
      "31916    تماس\n",
      "31917   بگیرد\n",
      "\n",
      "[31918 rows x 1 columns]\n",
      "category : vehicles\n",
      "          words\n",
      "0          تکیه\n",
      "1            سر\n",
      "2        تویوتا\n",
      "3         پرادو\n",
      "4      پارچه‌ای\n",
      "...         ...\n",
      "33357     یکسال\n",
      "33358      بیمه\n",
      "33359        تا\n",
      "33360       برج\n",
      "33361        ۸.\n",
      "\n",
      "[33362 rows x 1 columns]\n",
      "category : for-the-home\n",
      "         words\n",
      "0        مجسمه\n",
      "1      کریستال\n",
      "2           ۲۴\n",
      "3            ٪\n",
      "4        مجسمه\n",
      "...        ...\n",
      "25751     هستش\n",
      "25752    مشتری\n",
      "25753    واقعی\n",
      "25754     کنار\n",
      "25755     میام\n",
      "\n",
      "[25756 rows x 1 columns]\n",
      "category : personal\n",
      "           words\n",
      "0            کیف\n",
      "1            ساک\n",
      "2             هر\n",
      "3              ۲\n",
      "4          کاملا\n",
      "...          ...\n",
      "28676  واقعالباس\n",
      "28677     قشنگیه\n",
      "28678      تخفیف\n",
      "28679         هم\n",
      "28680       داره\n",
      "\n",
      "[28681 rows x 1 columns]\n",
      "category : electronic-devices\n",
      "          words\n",
      "0      تلویزیون\n",
      "1            ال\n",
      "2            سی\n",
      "3            دی\n",
      "4      تلویزیون\n",
      "...         ...\n",
      "35720       باز\n",
      "35721      شدگی\n",
      "35722     تعمیر\n",
      "35723        ۶۴\n",
      "35724       LLA\n",
      "\n",
      "[35725 rows x 1 columns]\n",
      "category : businesses\n",
      "        words\n",
      "0         سبک\n",
      "1        جدید\n",
      "2        مدرن\n",
      "3      تابلوی\n",
      "4         رنگ\n",
      "...       ...\n",
      "30454     زنی\n",
      "30455  ۶غالبه\n",
      "30456     زیر\n",
      "30457    قیمت\n",
      "30458   بازار\n",
      "\n",
      "[30459 rows x 1 columns]\n"
     ]
    }
   ],
   "source": [
    "for df in grouped_train_df:\n",
    "    print(\"category :\", df[0])\n",
    "    print(df[1])"
   ]
  },
  {
   "cell_type": "markdown",
   "id": "8b4c8db0",
   "metadata": {},
   "source": [
    "### make dataframe of words for each category"
   ]
  },
  {
   "cell_type": "code",
   "execution_count": 49,
   "id": "4b74e9d3",
   "metadata": {},
   "outputs": [
    {
     "data": {
      "text/plain": [
       "[['leisure-hobbies',\n",
       "          words  count\n",
       "  0        بلبل     11\n",
       "  1      خرمایی      2\n",
       "  2          سه     84\n",
       "  3         عدد    225\n",
       "  4        بلبل     11\n",
       "  ...       ...    ...\n",
       "  31913    لطفا     84\n",
       "  31914   مشتری     40\n",
       "  31915   واقعی     83\n",
       "  31916    تماس    190\n",
       "  31917   بگیرد      8\n",
       "  \n",
       "  [31918 rows x 2 columns]],\n",
       " ['vehicles',\n",
       "            words  count\n",
       "  0          تکیه      1\n",
       "  1            سر     32\n",
       "  2        تویوتا     11\n",
       "  3         پرادو      3\n",
       "  4      پارچه‌ای      1\n",
       "  ...         ...    ...\n",
       "  33357     یکسال     46\n",
       "  33358      بیمه    737\n",
       "  33359        تا    348\n",
       "  33360       برج    161\n",
       "  33361        ۸.      3\n",
       "  \n",
       "  [33362 rows x 2 columns]],\n",
       " ['for-the-home',\n",
       "           words  count\n",
       "  0        مجسمه     19\n",
       "  1      کریستال     29\n",
       "  2           ۲۴      8\n",
       "  3            ٪      5\n",
       "  4        مجسمه     19\n",
       "  ...        ...    ...\n",
       "  25751     هستش     16\n",
       "  25752    مشتری     29\n",
       "  25753    واقعی     62\n",
       "  25754     کنار     14\n",
       "  25755     میام      9\n",
       "  \n",
       "  [25756 rows x 2 columns]],\n",
       " ['personal',\n",
       "             words  count\n",
       "  0            کیف    212\n",
       "  1            ساک     15\n",
       "  2             هر     70\n",
       "  3              ۲     19\n",
       "  4          کاملا    207\n",
       "  ...          ...    ...\n",
       "  28676  واقعالباس      1\n",
       "  28677     قشنگیه      1\n",
       "  28678      تخفیف    121\n",
       "  28679         هم    221\n",
       "  28680       داره     75\n",
       "  \n",
       "  [28681 rows x 2 columns]],\n",
       " ['electronic-devices',\n",
       "            words  count\n",
       "  0      تلویزیون    199\n",
       "  1            ال    160\n",
       "  2            سی    137\n",
       "  3            دی    175\n",
       "  4      تلویزیون    199\n",
       "  ...         ...    ...\n",
       "  35720       باز     34\n",
       "  35721      شدگی      2\n",
       "  35722     تعمیر     41\n",
       "  35723        ۶۴     49\n",
       "  35724       LLA     12\n",
       "  \n",
       "  [35725 rows x 2 columns]],\n",
       " ['businesses',\n",
       "          words  count\n",
       "  0         سبک     12\n",
       "  1        جدید      5\n",
       "  2        مدرن      1\n",
       "  3      تابلوی      3\n",
       "  4         رنگ     72\n",
       "  ...       ...    ...\n",
       "  30454     زنی     20\n",
       "  30455  ۶غالبه      1\n",
       "  30456     زیر     63\n",
       "  30457    قیمت    333\n",
       "  30458   بازار     26\n",
       "  \n",
       "  [30459 rows x 2 columns]]]"
      ]
     },
     "execution_count": 49,
     "metadata": {},
     "output_type": "execute_result"
    }
   ],
   "source": [
    "for df in grouped_train_df:\n",
    "    df[1]['count'] = df[1].groupby('words')['words'].transform('count')\n",
    "grouped_train_df"
   ]
  },
  {
   "cell_type": "markdown",
   "id": "9fb35947",
   "metadata": {},
   "source": [
    "### count number of each words"
   ]
  },
  {
   "cell_type": "code",
   "execution_count": 50,
   "id": "72b18073",
   "metadata": {},
   "outputs": [
    {
     "data": {
      "text/plain": [
       "[['leisure-hobbies',\n",
       "            words  count\n",
       "  0          سالم    386\n",
       "  1           جفت    342\n",
       "  2            یک    335\n",
       "  3            نر    299\n",
       "  4          ماده    295\n",
       "  ...         ...    ...\n",
       "  6297  درشهرستان      1\n",
       "  6298     وطلایی      1\n",
       "  6299      مکعبی      1\n",
       "  6300     چرخدار      1\n",
       "  6301       ارسی      1\n",
       "  \n",
       "  [6302 rows x 2 columns]],\n",
       " ['vehicles',\n",
       "             words  count\n",
       "  0           بیمه    737\n",
       "  1           سالم    711\n",
       "  2            رنگ    702\n",
       "  3            مدل    581\n",
       "  4           بدون    511\n",
       "  ...          ...    ...\n",
       "  5545  دوتابالایی      1\n",
       "  5546  ۴عددلاستیک      1\n",
       "  5547         ای۲      1\n",
       "  5548         ٧٠٠      1\n",
       "  5549        تکیه      1\n",
       "  \n",
       "  [5550 rows x 2 columns]],\n",
       " ['for-the-home',\n",
       "            words  count\n",
       "  0            نو    514\n",
       "  1          سالم    513\n",
       "  2           میز    472\n",
       "  3            در    388\n",
       "  4           مبل    331\n",
       "  ...         ...    ...\n",
       "  4396    رویه‌ها      1\n",
       "  4397  مختلف$NUM      1\n",
       "  4398      ببندی      1\n",
       "  4399        …با      1\n",
       "  4400     چیدمان      1\n",
       "  \n",
       "  [4401 rows x 2 columns]],\n",
       " ['personal',\n",
       "         words  count\n",
       "  0         نو    818\n",
       "  1       سایز    693\n",
       "  2       لباس    374\n",
       "  3        کفش    351\n",
       "  4         در    325\n",
       "  ...      ...    ...\n",
       "  5018   بندیم      1\n",
       "  5019   ﻧﻤﻮﻧﻪ      1\n",
       "  5020    ﺗﻨﻬﺎ      1\n",
       "  5021      ﺟﺎ      1\n",
       "  5022  زرشکی_      1\n",
       "  \n",
       "  [5023 rows x 2 columns]],\n",
       " ['electronic-devices',\n",
       "           words  count\n",
       "  0         گوشی    652\n",
       "  1         سالم    615\n",
       "  2           هم    327\n",
       "  3         تمیز    323\n",
       "  4           نو    313\n",
       "  ...        ...    ...\n",
       "  6495     خش‌تر      1\n",
       "  6496    اندازی      1\n",
       "  6497    هوواوی      1\n",
       "  6498  انچارتد٤      1\n",
       "  6499       کیگ      1\n",
       "  \n",
       "  [6500 rows x 2 columns]],\n",
       " ['businesses',\n",
       "                words  count\n",
       "  0              فروش    538\n",
       "  1            دستگاه    425\n",
       "  2                در    402\n",
       "  3               عدد    397\n",
       "  4                نو    375\n",
       "  ...             ...    ...\n",
       "  6189         کرومیت      1\n",
       "  6190          بلوکر      1\n",
       "  6191  موادپز۷کیلویی      1\n",
       "  6192         فراوری      1\n",
       "  6193           لعزم      1\n",
       "  \n",
       "  [6194 rows x 2 columns]]]"
      ]
     },
     "execution_count": 50,
     "metadata": {},
     "output_type": "execute_result"
    }
   ],
   "source": [
    "for df in grouped_train_df:\n",
    "    df[1].sort_values('count', inplace = True, ascending = False)\n",
    "    df[1].drop_duplicates(keep='first', inplace = True, ignore_index = True)\n",
    "grouped_train_df"
   ]
  },
  {
   "cell_type": "markdown",
   "id": "70cf2a27",
   "metadata": {},
   "source": [
    "## Calculate numbers for Stemmed Train DataFrame"
   ]
  },
  {
   "cell_type": "code",
   "execution_count": 51,
   "id": "0431e8c0",
   "metadata": {},
   "outputs": [],
   "source": [
    "grouped = stemmed_train_df.groupby(stemmed_train_df['categories'])"
   ]
  },
  {
   "cell_type": "code",
   "execution_count": 52,
   "id": "7694a378",
   "metadata": {},
   "outputs": [],
   "source": [
    "grouped_stemmed_train_df = []\n",
    "for category in categories:\n",
    "    grouped_stemmed_train_df.append([category[0], grouped.get_group(category[0])])"
   ]
  },
  {
   "cell_type": "code",
   "execution_count": 53,
   "id": "4126e938",
   "metadata": {},
   "outputs": [],
   "source": [
    "for group in grouped_stemmed_train_df:\n",
    "    group[1] = group[1].drop(['categories'], axis = 1)"
   ]
  },
  {
   "cell_type": "markdown",
   "id": "824e6a5c",
   "metadata": {},
   "source": [
    "### delete categories from dataframe"
   ]
  },
  {
   "cell_type": "code",
   "execution_count": 54,
   "id": "8db538dc",
   "metadata": {},
   "outputs": [],
   "source": [
    "g_tr_df = []\n",
    "for df in grouped_stemmed_train_df:\n",
    "    all_words = [df[0], []]\n",
    "    for data in df[1]['data']:\n",
    "        all_words[1] = all_words[1] + data\n",
    "    g_tr_df.append([all_words[0], pd.DataFrame({'words' : all_words[1]})])\n",
    "    \n",
    "grouped_stemmed_train_df = g_tr_df"
   ]
  },
  {
   "cell_type": "markdown",
   "id": "dc22c6fa",
   "metadata": {},
   "source": [
    "### make dataframe of words for each category"
   ]
  },
  {
   "cell_type": "code",
   "execution_count": 55,
   "id": "959b921d",
   "metadata": {},
   "outputs": [],
   "source": [
    "for df in grouped_stemmed_train_df:\n",
    "    df[1]['count'] = df[1].groupby('words')['words'].transform('count')"
   ]
  },
  {
   "cell_type": "markdown",
   "id": "80abe918",
   "metadata": {},
   "source": [
    "### count number of each words"
   ]
  },
  {
   "cell_type": "code",
   "execution_count": 56,
   "id": "95078edc",
   "metadata": {},
   "outputs": [
    {
     "data": {
      "text/plain": [
       "[['leisure-hobbies',\n",
       "           words  count\n",
       "  0          سال    435\n",
       "  1           یک    371\n",
       "  2           جف    346\n",
       "  3           نر    316\n",
       "  4           در    309\n",
       "  ...        ...    ...\n",
       "  5449       بدم      1\n",
       "  5450  اوربیترک      1\n",
       "  5451       مگن      1\n",
       "  5452        چخ      1\n",
       "  5453      دعور      1\n",
       "  \n",
       "  [5454 rows x 2 columns]],\n",
       " ['vehicles',\n",
       "            words  count\n",
       "  0           سال   1027\n",
       "  1          بیمه    739\n",
       "  2           رنگ    721\n",
       "  3           مدل    585\n",
       "  4          بدون    511\n",
       "  ...         ...    ...\n",
       "  4970  پاورویندز      1\n",
       "  4971   میکروفون      1\n",
       "  4972   سنسورعقب      1\n",
       "  4973      سااال      1\n",
       "  4974       تکیه      1\n",
       "  \n",
       "  [4975 rows x 2 columns]],\n",
       " ['for-the-home',\n",
       "         words  count\n",
       "  0        سال    535\n",
       "  1         نو    525\n",
       "  2        میز    477\n",
       "  3        مبل    472\n",
       "  4         در    388\n",
       "  ...      ...    ...\n",
       "  3826  مصنوعى      1\n",
       "  3827   -اینه      1\n",
       "  3828   وباکس      1\n",
       "  3829     قوچ      1\n",
       "  3830   دوبله      1\n",
       "  \n",
       "  [3831 rows x 2 columns]],\n",
       " ['personal',\n",
       "        words  count\n",
       "  0        نو    844\n",
       "  1      سایز    736\n",
       "  2      لباس    398\n",
       "  3        کف    360\n",
       "  4        در    328\n",
       "  ...     ...    ...\n",
       "  4381  میخور      1\n",
       "  4382     ٧٠      1\n",
       "  4383    فکر      1\n",
       "  4384  باطرح      1\n",
       "  4385    فقر      1\n",
       "  \n",
       "  [4386 rows x 2 columns]],\n",
       " ['electronic-devices',\n",
       "              words  count\n",
       "  0             گوش    664\n",
       "  1             سال    643\n",
       "  2              نو    360\n",
       "  3               ه    345\n",
       "  4            تمیز    326\n",
       "  ...           ...    ...\n",
       "  5824         fast      1\n",
       "  5825          ۸۰۱      1\n",
       "  5826          ۱۳۳      1\n",
       "  5827          ۲/۵      1\n",
       "  5828  سامسونگwaye      1\n",
       "  \n",
       "  [5829 rows x 2 columns]],\n",
       " ['businesses',\n",
       "          words  count\n",
       "  0         فرو    543\n",
       "  1      دستگاه    439\n",
       "  2          در    412\n",
       "  3         عدد    399\n",
       "  4          نو    381\n",
       "  ...       ...    ...\n",
       "  5326    چنگال      1\n",
       "  5327   دوساله      1\n",
       "  5328     طفنگ      1\n",
       "  5329      ودو      1\n",
       "  5330  اتحادیه      1\n",
       "  \n",
       "  [5331 rows x 2 columns]]]"
      ]
     },
     "execution_count": 56,
     "metadata": {},
     "output_type": "execute_result"
    }
   ],
   "source": [
    "for df in grouped_stemmed_train_df:\n",
    "    df[1].sort_values('count', inplace = True, ascending = False)\n",
    "    df[1].drop_duplicates(keep='first', inplace = True, ignore_index = True)\n",
    "grouped_stemmed_train_df"
   ]
  },
  {
   "cell_type": "markdown",
   "id": "42cbbb84",
   "metadata": {},
   "source": [
    "## Calculate numbers for Lemmatized Train DataFrame"
   ]
  },
  {
   "cell_type": "code",
   "execution_count": 57,
   "id": "9339abe3",
   "metadata": {},
   "outputs": [],
   "source": [
    "grouped = lemmatized_train_df.groupby(lemmatized_train_df['categories'])"
   ]
  },
  {
   "cell_type": "code",
   "execution_count": 58,
   "id": "f5178894",
   "metadata": {},
   "outputs": [],
   "source": [
    "grouped_lemmatized_train_df = []\n",
    "for category in categories:\n",
    "    grouped_lemmatized_train_df.append([category[0], grouped.get_group(category[0])])"
   ]
  },
  {
   "cell_type": "code",
   "execution_count": 59,
   "id": "08d08e14",
   "metadata": {},
   "outputs": [],
   "source": [
    "for group in grouped_lemmatized_train_df:\n",
    "    group[1] = group[1].drop(['categories'], axis = 1)"
   ]
  },
  {
   "cell_type": "markdown",
   "id": "162bd433",
   "metadata": {},
   "source": [
    "### delete categories from dataframe"
   ]
  },
  {
   "cell_type": "code",
   "execution_count": 60,
   "id": "d5915f78",
   "metadata": {},
   "outputs": [],
   "source": [
    "g_tr_df = []\n",
    "for df in grouped_lemmatized_train_df:\n",
    "    all_words = [df[0], []]\n",
    "    for data in df[1]['data']:\n",
    "        all_words[1] = all_words[1] + data\n",
    "    g_tr_df.append([all_words[0], pd.DataFrame({'words' : all_words[1]})])\n",
    "    \n",
    "grouped_lemmatized_train_df = g_tr_df"
   ]
  },
  {
   "cell_type": "markdown",
   "id": "91145194",
   "metadata": {},
   "source": [
    "### make dataframe of words for each category"
   ]
  },
  {
   "cell_type": "code",
   "execution_count": 61,
   "id": "c8b22594",
   "metadata": {},
   "outputs": [],
   "source": [
    "for df in grouped_lemmatized_train_df:\n",
    "    df[1]['count'] = df[1].groupby('words')['words'].transform('count')"
   ]
  },
  {
   "cell_type": "markdown",
   "id": "092b9fc0",
   "metadata": {},
   "source": [
    "### count number of each words"
   ]
  },
  {
   "cell_type": "code",
   "execution_count": 62,
   "id": "4d2fa714",
   "metadata": {},
   "outputs": [
    {
     "data": {
      "text/plain": [
       "[['leisure-hobbies',\n",
       "        words  count\n",
       "  0      سالم    386\n",
       "  1       جفت    382\n",
       "  2        یک    366\n",
       "  3        نر    311\n",
       "  4      قیمت    301\n",
       "  ...     ...    ...\n",
       "  5656   Size      1\n",
       "  5657     ۴۲      1\n",
       "  5658     ,۵      1\n",
       "  5659  قوارش      1\n",
       "  5660     ٢١      1\n",
       "  \n",
       "  [5661 rows x 2 columns]],\n",
       " ['vehicles',\n",
       "         words  count\n",
       "  0       بیمه    739\n",
       "  1        رنگ    721\n",
       "  2       سالم    711\n",
       "  3        مدل    581\n",
       "  4       بدون    511\n",
       "  ...      ...    ...\n",
       "  5095  سااالم      1\n",
       "  5096     شتر      1\n",
       "  5097   جهرمه      1\n",
       "  5098  وایراد      1\n",
       "  5099    تکیه      1\n",
       "  \n",
       "  [5100 rows x 2 columns]],\n",
       " ['for-the-home',\n",
       "            words  count\n",
       "  0            نو    522\n",
       "  1          سالم    513\n",
       "  2           میز    476\n",
       "  3           مبل    472\n",
       "  4            در    388\n",
       "  ...         ...    ...\n",
       "  3956       -شیک      1\n",
       "  3957  و۶مترخیلی      1\n",
       "  3958    تمیز███      1\n",
       "  3959      ارائه      1\n",
       "  3960        صدف      1\n",
       "  \n",
       "  [3961 rows x 2 columns]],\n",
       " ['personal',\n",
       "          words  count\n",
       "  0          نو    841\n",
       "  1        سایز    736\n",
       "  2        لباس    398\n",
       "  3         کفش    365\n",
       "  4          در    325\n",
       "  ...       ...    ...\n",
       "  4503   زدایکس      1\n",
       "  4504   صدوشصت      1\n",
       "  4505  ازتهران      1\n",
       "  4506       ﺟﺎ      1\n",
       "  4507      دید      1\n",
       "  \n",
       "  [4508 rows x 2 columns]],\n",
       " ['electronic-devices',\n",
       "                words  count\n",
       "  0               گوش    664\n",
       "  1              سالم    619\n",
       "  2                نو    352\n",
       "  3                هم    331\n",
       "  4              تمیز    326\n",
       "  ...             ...    ...\n",
       "  5982       گرافیکon      1\n",
       "  5983        SLIچهار      1\n",
       "  5984       مودم‌تری      1\n",
       "  5985  Solaris-آکبند      1\n",
       "  5986           ۸۹۶۱      1\n",
       "  \n",
       "  [5987 rows x 2 columns]],\n",
       " ['businesses',\n",
       "         words  count\n",
       "  0       فروش    543\n",
       "  1     دستگاه    439\n",
       "  2         در    402\n",
       "  3        عدد    399\n",
       "  4         نو    379\n",
       "  ...      ...    ...\n",
       "  5522    ورقه      1\n",
       "  5523   قرمز,      1\n",
       "  5524     ای,      1\n",
       "  5525    زرد,      1\n",
       "  5526    کرنر      1\n",
       "  \n",
       "  [5527 rows x 2 columns]]]"
      ]
     },
     "execution_count": 62,
     "metadata": {},
     "output_type": "execute_result"
    }
   ],
   "source": [
    "for df in grouped_lemmatized_train_df:\n",
    "    df[1].sort_values('count', inplace = True, ascending = False)\n",
    "    df[1].drop_duplicates(keep='first', inplace = True, ignore_index = True)\n",
    "grouped_lemmatized_train_df"
   ]
  },
  {
   "cell_type": "markdown",
   "id": "149faeb2",
   "metadata": {},
   "source": [
    "## Bigrams"
   ]
  },
  {
   "cell_type": "markdown",
   "id": "67023100",
   "metadata": {},
   "source": [
    "### Example : 1. I left my bag in class.\n",
    "### 2. I put my phone in the left packet of my jeens."
   ]
  },
  {
   "cell_type": "markdown",
   "id": "3674dacc",
   "metadata": {},
   "source": [
    "#### In this example using bigram can help to find the right meaning of \"left\" word. "
   ]
  },
  {
   "cell_type": "markdown",
   "id": "4aeccf4a",
   "metadata": {},
   "source": [
    "## ‫‪Additive‬‬ ‫‪Smoothing‬‬"
   ]
  },
  {
   "cell_type": "markdown",
   "id": "0dc08f62",
   "metadata": {},
   "source": [
    "### 4. This is because Naive Bayes  formula, calculates probability that the object is relevant to that category equal to one.\n",
    "### If the word in test data doesn't exist in train data , then the probability of it in the Naive Bayes formula, equals to 0 and therefore, the probability of being a member of each class, that calculates from Naive Bayes formula,  equals to zero and then the model can't decide witch class is better than others."
   ]
  },
  {
   "cell_type": "markdown",
   "id": "772b0373",
   "metadata": {},
   "source": [
    "### 5. In Additive Smoothing, we consider a little number like alpha for probability of any words that are not exist in train data. Therefore the probability of being a member of each class, that calculates from Naive Bayes formula, is gratter than 0 and then the model can decide witch class is better than others.\n",
    "eg : Lets say you have three words A,B,C . They are present in your sentences which you are classifying into either positive or negative sentiments.\n",
    "\n",
    "So your dependent is a class : Positive or Negative\n",
    "\n",
    "Predictors are the words ( all which may not be present in a sentence)\n",
    "\n",
    "P(Class = Positive | X1 = A, X2 = B, X3 = C) = (P(X1 = A | Class = Positive)*P(X2 = B | Class = Positive)*P(X1 = C | Class = Positive)*P(Class = Positive) / (P(X1 = A)*P(X2 = B)*P(X3 = C)\n",
    "\n",
    "Now lets say , you have another word in the sentence of the test case X4 = D , unfortunately none of your train cases had this D ,\n",
    "\n",
    "P(X1 = D | Class = Positive) = 0 , right ?\n",
    "\n",
    "this will make the entire probability zero … so you prevent such a thing from happening, you add in a smoothing or additive smoothing component\n",
    "\n",
    "without smoothing\n",
    "P(X1 = A | Class = Positive) = (Number of cases of A when Class Positive/Sum of Cases A+B+C)\n",
    "\n",
    "with smoothing\n",
    "P(X1 = A | Class = Positive) = (Number of cases of A when Class Positive + alpha/Sum of Cases A+B+C + alpha)\n",
    "Here alpha is your smoothing component\n",
    "\n",
    "You will get the following expression below with smoothing alpha = 1\n",
    "P(X1 = D | Class = Positive) = 1\n",
    "\n",
    "resource : https://discuss.analyticsvidhya.com/t/what-is-additive-smoothing/3484"
   ]
  },
  {
   "cell_type": "markdown",
   "id": "7bc7dce7",
   "metadata": {},
   "source": [
    "## Verification"
   ]
  },
  {
   "cell_type": "code",
   "execution_count": 63,
   "id": "2f07c48e",
   "metadata": {},
   "outputs": [
    {
     "data": {
      "image/png": "[encoded data removed]",
      "text/plain": [
       "<Figure size 432x288 with 1 Axes>"
      ]
     },
     "metadata": {
      "needs_background": "light"
     },
     "output_type": "display_data"
    },
    {
     "data": {
      "image/png": "[encoded data removed]",
      "text/plain": [
       "<Figure size 432x288 with 1 Axes>"
      ]
     },
     "metadata": {
      "needs_background": "light"
     },
     "output_type": "display_data"
    },
    {
     "data": {
      "image/png": "[encoded data removed]",
      "text/plain": [
       "<Figure size 432x288 with 1 Axes>"
      ]
     },
     "metadata": {
      "needs_background": "light"
     },
     "output_type": "display_data"
    },
    {
     "data": {
      "image/png": "[encoded data removed]",
      "text/plain": [
       "<Figure size 432x288 with 1 Axes>"
      ]
     },
     "metadata": {
      "needs_background": "light"
     },
     "output_type": "display_data"
    },
    {
     "data": {
      "image/png": "[encoded data removed]",
      "text/plain": [
       "<Figure size 432x288 with 1 Axes>"
      ]
     },
     "metadata": {
      "needs_background": "light"
     },
     "output_type": "display_data"
    },
    {
     "data": {
      "image/png": "[encoded data removed]",
      "text/plain": [
       "<Figure size 432x288 with 1 Axes>"
      ]
     },
     "metadata": {
      "needs_background": "light"
     },
     "output_type": "display_data"
    }
   ],
   "source": [
    "for df in grouped_train_df:\n",
    "    x = list(df[1].head()['words'])\n",
    "    y = list(df[1].head()['count'])\n",
    "    plt.bar(x, y, color ='red', width = 0.6, edgecolor ='black')\n",
    "    plt.title(df[0])\n",
    "    plt.xlabel('words', fontweight ='bold')\n",
    "    plt.ylabel('counts', fontweight ='bold')\n",
    "    plt.show()"
   ]
  },
  {
   "cell_type": "code",
   "execution_count": 64,
   "id": "60018c8a",
   "metadata": {},
   "outputs": [
    {
     "data": {
      "image/png": "[encoded data removed]",
      "text/plain": [
       "<Figure size 432x288 with 1 Axes>"
      ]
     },
     "metadata": {
      "needs_background": "light"
     },
     "output_type": "display_data"
    },
    {
     "data": {
      "image/png": "[encoded data removed]",
      "text/plain": [
       "<Figure size 432x288 with 1 Axes>"
      ]
     },
     "metadata": {
      "needs_background": "light"
     },
     "output_type": "display_data"
    },
    {
     "data": {
      "image/png": "[encoded data removed]",
      "text/plain": [
       "<Figure size 432x288 with 1 Axes>"
      ]
     },
     "metadata": {
      "needs_background": "light"
     },
     "output_type": "display_data"
    },
    {
     "data": {
      "image/png": "[encoded data removed]",
      "text/plain": [
       "<Figure size 432x288 with 1 Axes>"
      ]
     },
     "metadata": {
      "needs_background": "light"
     },
     "output_type": "display_data"
    },
    {
     "data": {
      "image/png": "[encoded data removed]",
      "text/plain": [
       "<Figure size 432x288 with 1 Axes>"
      ]
     },
     "metadata": {
      "needs_background": "light"
     },
     "output_type": "display_data"
    },
    {
     "data": {
      "image/png": "[encoded data removed]",
      "text/plain": [
       "<Figure size 432x288 with 1 Axes>"
      ]
     },
     "metadata": {
      "needs_background": "light"
     },
     "output_type": "display_data"
    }
   ],
   "source": [
    "for df in grouped_stemmed_train_df:\n",
    "    x = list(df[1].head()['words'])\n",
    "    y = list(df[1].head()['count'])\n",
    "    plt.bar(x, y, color ='red', width = 0.6, edgecolor ='black')\n",
    "    plt.title(df[0])\n",
    "    plt.xlabel('words', fontweight ='bold')\n",
    "    plt.ylabel('counts', fontweight ='bold')\n",
    "    plt.show()"
   ]
  },
  {
   "cell_type": "code",
   "execution_count": 65,
   "id": "11d33a25",
   "metadata": {},
   "outputs": [
    {
     "data": {
      "image/png": "[encoded data removed]",
      "text/plain": [
       "<Figure size 432x288 with 1 Axes>"
      ]
     },
     "metadata": {
      "needs_background": "light"
     },
     "output_type": "display_data"
    },
    {
     "data": {
      "image/png": "[encoded data removed]",
      "text/plain": [
       "<Figure size 432x288 with 1 Axes>"
      ]
     },
     "metadata": {
      "needs_background": "light"
     },
     "output_type": "display_data"
    },
    {
     "data": {
      "image/png": "[encoded data removed]",
      "text/plain": [
       "<Figure size 432x288 with 1 Axes>"
      ]
     },
     "metadata": {
      "needs_background": "light"
     },
     "output_type": "display_data"
    },
    {
     "data": {
      "image/png": "[encoded data removed]",
      "text/plain": [
       "<Figure size 432x288 with 1 Axes>"
      ]
     },
     "metadata": {
      "needs_background": "light"
     },
     "output_type": "display_data"
    },
    {
     "data": {
      "image/png": "[encoded data removed]",
      "text/plain": [
       "<Figure size 432x288 with 1 Axes>"
      ]
     },
     "metadata": {
      "needs_background": "light"
     },
     "output_type": "display_data"
    },
    {
     "data": {
      "image/png": "[encoded data removed]",
      "text/plain": [
       "<Figure size 432x288 with 1 Axes>"
      ]
     },
     "metadata": {
      "needs_background": "light"
     },
     "output_type": "display_data"
    }
   ],
   "source": [
    "for df in grouped_lemmatized_train_df:\n",
    "    x = list(df[1].head()['words'])\n",
    "    y = list(df[1].head()['count'])\n",
    "    plt.bar(x, y, color ='red', width = 0.6, edgecolor ='black')\n",
    "    plt.title(df[0])\n",
    "    plt.xlabel('words', fontweight ='bold')\n",
    "    plt.ylabel('counts', fontweight ='bold')\n",
    "    plt.show()"
   ]
  },
  {
   "cell_type": "markdown",
   "id": "3c42091f",
   "metadata": {},
   "source": [
    "## Evaluation"
   ]
  },
  {
   "cell_type": "markdown",
   "id": "7a60b66d",
   "metadata": {},
   "source": [
    "### 7. Because in some models, the number of detected class is low but the number of correct detected class is high then the Precision value will be high but Recall value will be low. And in other models, the number of detected class is more than first models and the number of correct detected class is also more than first models but the rato of the correct detected class to the all detected class is less than first models(because of more detected data), so in this models, the Precision will be less than the first model but the Recall will be more then first models.\n",
    "### So we need to consider both of Recall and Precisin to evaluate models."
   ]
  },
  {
   "cell_type": "markdown",
   "id": "47868dc1",
   "metadata": {},
   "source": [
    "### 8. The harmonic mean.\n",
    "### The harmonic mean is a type of numerical average. It is calculated by dividing the number of observations by the reciprocal of each number in the series. Thus, the harmonic mean is the reciprocal of the arithmetic mean of the reciprocals. The harmonic mean is good at handling large outliers. But small outliers will make things worse.\n",
    "### An arithmetic average is the sum of a series of numbers divided by the count of that series of numbers. The large outliers can effect on the result but  small outliers not effect very much. \n",
    "### In this problem we want to give high score to the smaller value(Recall), so the harmonic mean is better than arithmetic average.\n"
   ]
  },
  {
   "cell_type": "markdown",
   "id": "bfc524c4",
   "metadata": {},
   "source": [
    "### 9.A macro-average will compute the metric independently for each class and then take the average hence treating all classes equally, whereas a micro-average will aggregate the contributions of all classes to compute the average metric.\n",
    "### In weighted-average, we weight the score of each class by the number of samples from that class.\n",
    "resorce: https://androidkt.com/micro-macro-averages-for-imbalance-multiclass-classification/"
   ]
  },
  {
   "cell_type": "markdown",
   "id": "1ebf9441",
   "metadata": {},
   "source": [
    "## Predict without Additive Smoothing"
   ]
  },
  {
   "cell_type": "markdown",
   "id": "bdc0d8c9",
   "metadata": {},
   "source": [
    "### Predict categories for test data"
   ]
  },
  {
   "cell_type": "code",
   "execution_count": 184,
   "id": "521347a9",
   "metadata": {},
   "outputs": [],
   "source": [
    "learned_df = dict(grouped_train_df)\n",
    "learned_stemmed_df = dict(grouped_stemmed_train_df)\n",
    "learned_lemmatized_df = dict(grouped_lemmatized_train_df)"
   ]
  },
  {
   "cell_type": "code",
   "execution_count": 185,
   "id": "8b3b71ba",
   "metadata": {},
   "outputs": [],
   "source": [
    "test_dataframe['predict'] = 'empty'"
   ]
  },
  {
   "cell_type": "code",
   "execution_count": 186,
   "id": "92a967e0",
   "metadata": {},
   "outputs": [],
   "source": [
    "s = 0\n",
    "for cat in categories:\n",
    "    s += cat[1]\n",
    "for cat in categories:\n",
    "    cat[1] = math.log(cat[1]/s)"
   ]
  },
  {
   "cell_type": "code",
   "execution_count": null,
   "id": "cbcc95ef",
   "metadata": {},
   "outputs": [],
   "source": [
    "for i in test_dataframe.index:\n",
    "    data = test_dataframe['data'][i]\n",
    "    curr_cat_scores = copy.deepcopy(categories)\n",
    "    for cat in curr_cat_scores:\n",
    "        scores = learned_df[cat[0]]\n",
    "        s = scores['count'].sum()\n",
    "        for word in data:\n",
    "            if word in scores.values:\n",
    "                cat[1] += math.log((int(scores.loc[scores['words'] == word]['count'])) / s)\n",
    "    mx = min([sublist[1] for sublist in curr_cat_scores])\n",
    "    for cat in curr_cat_scores:\n",
    "        if cat[1] == mx:\n",
    "            test_dataframe['predict'][i] = cat[0]\n",
    "            break\n",
    "    "
   ]
  },
  {
   "cell_type": "code",
   "execution_count": null,
   "id": "4dbb193d",
   "metadata": {},
   "outputs": [],
   "source": [
    "test_dataframe"
   ]
  },
  {
   "cell_type": "markdown",
   "id": "f87d3535",
   "metadata": {},
   "source": [
    "#### As seen above, the predict column filled."
   ]
  },
  {
   "cell_type": "markdown",
   "id": "0321ae05",
   "metadata": {},
   "source": [
    "### Predict categories for stemmed test data"
   ]
  },
  {
   "cell_type": "code",
   "execution_count": null,
   "id": "4078460c",
   "metadata": {},
   "outputs": [],
   "source": [
    "stemmed_test_df['predict'] = 'empty'"
   ]
  },
  {
   "cell_type": "code",
   "execution_count": null,
   "id": "09431bab",
   "metadata": {},
   "outputs": [],
   "source": [
    "for i in stemmed_test_df.index:\n",
    "    data = stemmed_test_df['data'][i]\n",
    "    curr_cat_scores = copy.deepcopy(categories)\n",
    "    for cat in curr_cat_scores:\n",
    "        scores = learned_stemmed_df[cat[0]]\n",
    "        s = scores['count'].sum()\n",
    "        for word in data:\n",
    "            if word in scores.values:\n",
    "                cat[1] += math.log((int(scores.loc[scores['words'] == word]['count'])) / s)\n",
    "    mx = min([sublist[1] for sublist in curr_cat_scores])\n",
    "    for cat in curr_cat_scores:\n",
    "        if cat[1] == mx:\n",
    "            stemmed_test_df['predict'][i] = cat[0]\n",
    "            break\n",
    "    "
   ]
  },
  {
   "cell_type": "code",
   "execution_count": null,
   "id": "381d668d",
   "metadata": {},
   "outputs": [],
   "source": [
    "stemmed_test_df"
   ]
  },
  {
   "cell_type": "markdown",
   "id": "e8e39a8e",
   "metadata": {},
   "source": [
    "#### As seen above, the predict column filled."
   ]
  },
  {
   "cell_type": "markdown",
   "id": "e29e519b",
   "metadata": {},
   "source": [
    "### Predict categories for lemmatized test data"
   ]
  },
  {
   "cell_type": "code",
   "execution_count": null,
   "id": "cca07ba0",
   "metadata": {},
   "outputs": [],
   "source": [
    "lemmatized_test_df['predict'] = 'empty'"
   ]
  },
  {
   "cell_type": "code",
   "execution_count": null,
   "id": "53f13db8",
   "metadata": {},
   "outputs": [],
   "source": [
    "for i in lemmatized_test_df.index:\n",
    "    data = lemmatized_test_df['data'][i]\n",
    "    curr_cat_scores = copy.deepcopy(categories)\n",
    "    for cat in curr_cat_scores:\n",
    "        scores = learned_lemmatized_df[cat[0]]\n",
    "        s = scores['count'].sum()\n",
    "        for word in data:\n",
    "            if word in scores.values:\n",
    "                cat[1] += math.log((int(scores.loc[scores['words'] == word]['count'])) / s)\n",
    "    mx = min([sublist[1] for sublist in curr_cat_scores])\n",
    "    for cat in curr_cat_scores:\n",
    "        if cat[1] == mx:\n",
    "            lemmatized_test_df['predict'][i] = cat[0]\n",
    "            break\n",
    "    "
   ]
  },
  {
   "cell_type": "code",
   "execution_count": null,
   "id": "b170e782",
   "metadata": {},
   "outputs": [],
   "source": [
    "lemmatized_test_df"
   ]
  },
  {
   "cell_type": "markdown",
   "id": "d21585c9",
   "metadata": {},
   "source": [
    "#### As seen above, the predict column filled."
   ]
  },
  {
   "cell_type": "code",
   "execution_count": null,
   "id": "98a69d82",
   "metadata": {},
   "outputs": [],
   "source": [
    "correct_detected = 0\n",
    "total = 0\n",
    "for i in test_dataframe.index:\n",
    "    if test_dataframe['predict'][i] == test_dataframe['categories'][i]:\n",
    "        correct_detected += 1\n",
    "    total += 1"
   ]
  },
  {
   "cell_type": "code",
   "execution_count": null,
   "id": "bd7c7a70",
   "metadata": {
    "scrolled": true
   },
   "outputs": [],
   "source": [
    "accuracy = correct_detected / total\n",
    "print(\"Accuracy :\",accuracy)"
   ]
  },
  {
   "cell_type": "code",
   "execution_count": null,
   "id": "a80b9be4",
   "metadata": {},
   "outputs": [],
   "source": [
    "correct_detected = 0\n",
    "total = 0\n",
    "for i in stemmed_test_df.index:\n",
    "    if stemmed_test_df['predict'][i] == stemmed_test_df['categories'][i]:\n",
    "        correct_detected += 1\n",
    "    total += 1"
   ]
  },
  {
   "cell_type": "code",
   "execution_count": null,
   "id": "d83f4e29",
   "metadata": {},
   "outputs": [],
   "source": [
    "stemmed_accuracy = correct_detected / total\n",
    "print(\"Stemmed Accuracy :\",stemmed_accuracy)"
   ]
  },
  {
   "cell_type": "code",
   "execution_count": null,
   "id": "11a69e36",
   "metadata": {},
   "outputs": [],
   "source": [
    "correct_detected = 0\n",
    "total = 0\n",
    "for i in lemmatized_test_df.index:\n",
    "    if lemmatized_test_df['predict'][i] == lemmatized_test_df['categories'][i]:\n",
    "        correct_detected += 1\n",
    "    total += 1"
   ]
  },
  {
   "cell_type": "code",
   "execution_count": null,
   "id": "9b545a08",
   "metadata": {},
   "outputs": [],
   "source": [
    "lemmatized_accuracy = correct_detected / total\n",
    "print(\"Lemmatized Accuracy:\",lemmatized_accuracy)"
   ]
  },
  {
   "cell_type": "code",
   "execution_count": null,
   "id": "c5df9146",
   "metadata": {},
   "outputs": [],
   "source": []
  },
  {
   "cell_type": "markdown",
   "id": "2b4cd52f",
   "metadata": {},
   "source": [
    "## Predict with Additive Smoothing"
   ]
  },
  {
   "cell_type": "code",
   "execution_count": 171,
   "id": "ac0d1c1f",
   "metadata": {},
   "outputs": [],
   "source": [
    "alpha = 0.00001"
   ]
  },
  {
   "cell_type": "markdown",
   "id": "585682fa",
   "metadata": {},
   "source": [
    "### Predict categories for test data"
   ]
  },
  {
   "cell_type": "code",
   "execution_count": 172,
   "id": "bdd01f97",
   "metadata": {},
   "outputs": [],
   "source": [
    "for i in test_dataframe.index:\n",
    "    data = test_dataframe['data'][i]\n",
    "    curr_cat_scores = copy.deepcopy(categories)\n",
    "    for cat in curr_cat_scores:\n",
    "        scores = learned_df[cat[0]]\n",
    "        s = scores['count'].sum()\n",
    "        for word in data:\n",
    "            if word in scores.values:\n",
    "                cat[1] += math.log((int(scores.loc[scores['words'] == word]['count'])) / s)\n",
    "            else:\n",
    "                cat[1] += math.log(alpha)\n",
    "    mx = max([sublist[1] for sublist in curr_cat_scores])\n",
    "    for cat in curr_cat_scores:\n",
    "        if cat[1] == mx:\n",
    "            test_dataframe['predict'][i] = cat[0]\n",
    "            break\n",
    "    "
   ]
  },
  {
   "cell_type": "code",
   "execution_count": 173,
   "id": "2cb05b65",
   "metadata": {},
   "outputs": [
    {
     "data": {
      "text/html": [
       "<div>\n",
       "<style scoped>\n",
       "    .dataframe tbody tr th:only-of-type {\n",
       "        vertical-align: middle;\n",
       "    }\n",
       "\n",
       "    .dataframe tbody tr th {\n",
       "        vertical-align: top;\n",
       "    }\n",
       "\n",
       "    .dataframe thead th {\n",
       "        text-align: right;\n",
       "    }\n",
       "</style>\n",
       "<table border=\"1\" class=\"dataframe\">\n",
       "  <thead>\n",
       "    <tr style=\"text-align: right;\">\n",
       "      <th></th>\n",
       "      <th>categories</th>\n",
       "      <th>data</th>\n",
       "      <th>predict</th>\n",
       "    </tr>\n",
       "  </thead>\n",
       "  <tbody>\n",
       "    <tr>\n",
       "      <th>0</th>\n",
       "      <td>personal</td>\n",
       "      <td>[کیف, مجلسی, نو, کیف, مجلسی, نوی, نو]</td>\n",
       "      <td>personal</td>\n",
       "    </tr>\n",
       "    <tr>\n",
       "      <th>1</th>\n",
       "      <td>for-the-home</td>\n",
       "      <td>[دیوار, کوب, نمدی, تزیینی, مناسب, برای, جهاز, ...</td>\n",
       "      <td>for-the-home</td>\n",
       "    </tr>\n",
       "    <tr>\n",
       "      <th>2</th>\n",
       "      <td>for-the-home</td>\n",
       "      <td>[دو, تیکه, بسیار, بسیار, تمیز, سالم, کشوی, مخف...</td>\n",
       "      <td>for-the-home</td>\n",
       "    </tr>\n",
       "    <tr>\n",
       "      <th>3</th>\n",
       "      <td>electronic-devices</td>\n",
       "      <td>[مودم, سلام, مودم, سالم, وسایلش, دیگه, ب, کارم...</td>\n",
       "      <td>electronic-devices</td>\n",
       "    </tr>\n",
       "    <tr>\n",
       "      <th>4</th>\n",
       "      <td>leisure-hobbies</td>\n",
       "      <td>[تعداد, ۱۸, عددبوقلمون, قیمت, عمده, سلام, تعدا...</td>\n",
       "      <td>leisure-hobbies</td>\n",
       "    </tr>\n",
       "    <tr>\n",
       "      <th>...</th>\n",
       "      <td>...</td>\n",
       "      <td>...</td>\n",
       "      <td>...</td>\n",
       "    </tr>\n",
       "    <tr>\n",
       "      <th>1795</th>\n",
       "      <td>businesses</td>\n",
       "      <td>[باسکول, ۳۰۰, کیلویی, سالمه, سالمه, بشرط, قیمت...</td>\n",
       "      <td>for-the-home</td>\n",
       "    </tr>\n",
       "    <tr>\n",
       "      <th>1796</th>\n",
       "      <td>businesses</td>\n",
       "      <td>[میز, مدیریتی, کنفرانس, میز, مدیریتی, کنفرانس,...</td>\n",
       "      <td>businesses</td>\n",
       "    </tr>\n",
       "    <tr>\n",
       "      <th>1797</th>\n",
       "      <td>electronic-devices</td>\n",
       "      <td>[باند, aiwa, سالم, اسپیکر]</td>\n",
       "      <td>electronic-devices</td>\n",
       "    </tr>\n",
       "    <tr>\n",
       "      <th>1798</th>\n",
       "      <td>leisure-hobbies</td>\n",
       "      <td>[عروس, هلندی, مولد, پنج, تا, عروس, هلندی, دو, ...</td>\n",
       "      <td>leisure-hobbies</td>\n",
       "    </tr>\n",
       "    <tr>\n",
       "      <th>1799</th>\n",
       "      <td>personal</td>\n",
       "      <td>[ست, دستباف, دخترانه, یکساله, نو, ست, دخترانه,...</td>\n",
       "      <td>personal</td>\n",
       "    </tr>\n",
       "  </tbody>\n",
       "</table>\n",
       "<p>1800 rows × 3 columns</p>\n",
       "</div>"
      ],
      "text/plain": [
       "              categories                                               data  \\\n",
       "0               personal              [کیف, مجلسی, نو, کیف, مجلسی, نوی, نو]   \n",
       "1           for-the-home  [دیوار, کوب, نمدی, تزیینی, مناسب, برای, جهاز, ...   \n",
       "2           for-the-home  [دو, تیکه, بسیار, بسیار, تمیز, سالم, کشوی, مخف...   \n",
       "3     electronic-devices  [مودم, سلام, مودم, سالم, وسایلش, دیگه, ب, کارم...   \n",
       "4        leisure-hobbies  [تعداد, ۱۸, عددبوقلمون, قیمت, عمده, سلام, تعدا...   \n",
       "...                  ...                                                ...   \n",
       "1795          businesses  [باسکول, ۳۰۰, کیلویی, سالمه, سالمه, بشرط, قیمت...   \n",
       "1796          businesses  [میز, مدیریتی, کنفرانس, میز, مدیریتی, کنفرانس,...   \n",
       "1797  electronic-devices                         [باند, aiwa, سالم, اسپیکر]   \n",
       "1798     leisure-hobbies  [عروس, هلندی, مولد, پنج, تا, عروس, هلندی, دو, ...   \n",
       "1799            personal  [ست, دستباف, دخترانه, یکساله, نو, ست, دخترانه,...   \n",
       "\n",
       "                 predict  \n",
       "0               personal  \n",
       "1           for-the-home  \n",
       "2           for-the-home  \n",
       "3     electronic-devices  \n",
       "4        leisure-hobbies  \n",
       "...                  ...  \n",
       "1795        for-the-home  \n",
       "1796          businesses  \n",
       "1797  electronic-devices  \n",
       "1798     leisure-hobbies  \n",
       "1799            personal  \n",
       "\n",
       "[1800 rows x 3 columns]"
      ]
     },
     "execution_count": 173,
     "metadata": {},
     "output_type": "execute_result"
    }
   ],
   "source": [
    "test_dataframe"
   ]
  },
  {
   "cell_type": "markdown",
   "id": "b133e289",
   "metadata": {},
   "source": [
    "#### As seen above, the predict column filled."
   ]
  },
  {
   "cell_type": "markdown",
   "id": "c53f6dcd",
   "metadata": {},
   "source": [
    "### Predict categories for stemmed test data"
   ]
  },
  {
   "cell_type": "code",
   "execution_count": 174,
   "id": "46bcd849",
   "metadata": {},
   "outputs": [],
   "source": [
    "for i in stemmed_test_df.index:\n",
    "    data = stemmed_test_df['data'][i]\n",
    "    curr_cat_scores = copy.deepcopy(categories)\n",
    "    for cat in curr_cat_scores:\n",
    "        scores = learned_stemmed_df[cat[0]]\n",
    "        s = scores['count'].sum()\n",
    "        for word in data:\n",
    "            if word in scores.values:\n",
    "                cat[1] += math.log((int(scores.loc[scores['words'] == word]['count'])) / s)\n",
    "            else:\n",
    "                cat[1] += math.log(alpha)\n",
    "    mx = max([sublist[1] for sublist in curr_cat_scores])\n",
    "    for cat in curr_cat_scores:\n",
    "        if cat[1] == mx:\n",
    "            stemmed_test_df['predict'][i] = cat[0]\n",
    "            break\n",
    "    "
   ]
  },
  {
   "cell_type": "code",
   "execution_count": 175,
   "id": "ea0081d8",
   "metadata": {},
   "outputs": [
    {
     "data": {
      "text/html": [
       "<div>\n",
       "<style scoped>\n",
       "    .dataframe tbody tr th:only-of-type {\n",
       "        vertical-align: middle;\n",
       "    }\n",
       "\n",
       "    .dataframe tbody tr th {\n",
       "        vertical-align: top;\n",
       "    }\n",
       "\n",
       "    .dataframe thead th {\n",
       "        text-align: right;\n",
       "    }\n",
       "</style>\n",
       "<table border=\"1\" class=\"dataframe\">\n",
       "  <thead>\n",
       "    <tr style=\"text-align: right;\">\n",
       "      <th></th>\n",
       "      <th>categories</th>\n",
       "      <th>data</th>\n",
       "      <th>predict</th>\n",
       "    </tr>\n",
       "  </thead>\n",
       "  <tbody>\n",
       "    <tr>\n",
       "      <th>0</th>\n",
       "      <td>personal</td>\n",
       "      <td>[کیف, مجلس, نو, کیف, مجلس, نو, نو]</td>\n",
       "      <td>personal</td>\n",
       "    </tr>\n",
       "    <tr>\n",
       "      <th>1</th>\n",
       "      <td>for-the-home</td>\n",
       "      <td>[دیوار, کوب, نمد, تزیین, مناسب, برا, جهاز, عروس]</td>\n",
       "      <td>for-the-home</td>\n",
       "    </tr>\n",
       "    <tr>\n",
       "      <th>2</th>\n",
       "      <td>for-the-home</td>\n",
       "      <td>[دو, تیکه, بسیار, بسیار, تمیز, سال, کشو, مخف, ...</td>\n",
       "      <td>for-the-home</td>\n",
       "    </tr>\n",
       "    <tr>\n",
       "      <th>3</th>\n",
       "      <td>electronic-devices</td>\n",
       "      <td>[مود, سلا, مود, سال, وسایل, دیگه, ب, کار, نمیا...</td>\n",
       "      <td>electronic-devices</td>\n",
       "    </tr>\n",
       "    <tr>\n",
       "      <th>4</th>\n",
       "      <td>leisure-hobbies</td>\n",
       "      <td>[تعداد, ۱۸, عددبوقلمون, قیم, عمده, سلا, تعدا, ...</td>\n",
       "      <td>leisure-hobbies</td>\n",
       "    </tr>\n",
       "    <tr>\n",
       "      <th>...</th>\n",
       "      <td>...</td>\n",
       "      <td>...</td>\n",
       "      <td>...</td>\n",
       "    </tr>\n",
       "    <tr>\n",
       "      <th>1795</th>\n",
       "      <td>businesses</td>\n",
       "      <td>[باسکول, ۳۰۰, کیلو, سالمه, سالمه, بشرط, قیم, ن...</td>\n",
       "      <td>electronic-devices</td>\n",
       "    </tr>\n",
       "    <tr>\n",
       "      <th>1796</th>\n",
       "      <td>businesses</td>\n",
       "      <td>[میز, مدیریت, کنفرانس, میز, مدیریت, کنفرانس, ت...</td>\n",
       "      <td>businesses</td>\n",
       "    </tr>\n",
       "    <tr>\n",
       "      <th>1797</th>\n",
       "      <td>electronic-devices</td>\n",
       "      <td>[باند, aiwa, سال, اسپیکر]</td>\n",
       "      <td>electronic-devices</td>\n",
       "    </tr>\n",
       "    <tr>\n",
       "      <th>1798</th>\n",
       "      <td>leisure-hobbies</td>\n",
       "      <td>[عروس, هلند, مولد, پنج, تا, عروس, هلند, دو, جف...</td>\n",
       "      <td>leisure-hobbies</td>\n",
       "    </tr>\n",
       "    <tr>\n",
       "      <th>1799</th>\n",
       "      <td>personal</td>\n",
       "      <td>[س, دستباف, دخترانه, یکساله, نو, س, دخترانه, ت...</td>\n",
       "      <td>personal</td>\n",
       "    </tr>\n",
       "  </tbody>\n",
       "</table>\n",
       "<p>1800 rows × 3 columns</p>\n",
       "</div>"
      ],
      "text/plain": [
       "              categories                                               data  \\\n",
       "0               personal                 [کیف, مجلس, نو, کیف, مجلس, نو, نو]   \n",
       "1           for-the-home   [دیوار, کوب, نمد, تزیین, مناسب, برا, جهاز, عروس]   \n",
       "2           for-the-home  [دو, تیکه, بسیار, بسیار, تمیز, سال, کشو, مخف, ...   \n",
       "3     electronic-devices  [مود, سلا, مود, سال, وسایل, دیگه, ب, کار, نمیا...   \n",
       "4        leisure-hobbies  [تعداد, ۱۸, عددبوقلمون, قیم, عمده, سلا, تعدا, ...   \n",
       "...                  ...                                                ...   \n",
       "1795          businesses  [باسکول, ۳۰۰, کیلو, سالمه, سالمه, بشرط, قیم, ن...   \n",
       "1796          businesses  [میز, مدیریت, کنفرانس, میز, مدیریت, کنفرانس, ت...   \n",
       "1797  electronic-devices                          [باند, aiwa, سال, اسپیکر]   \n",
       "1798     leisure-hobbies  [عروس, هلند, مولد, پنج, تا, عروس, هلند, دو, جف...   \n",
       "1799            personal  [س, دستباف, دخترانه, یکساله, نو, س, دخترانه, ت...   \n",
       "\n",
       "                 predict  \n",
       "0               personal  \n",
       "1           for-the-home  \n",
       "2           for-the-home  \n",
       "3     electronic-devices  \n",
       "4        leisure-hobbies  \n",
       "...                  ...  \n",
       "1795  electronic-devices  \n",
       "1796          businesses  \n",
       "1797  electronic-devices  \n",
       "1798     leisure-hobbies  \n",
       "1799            personal  \n",
       "\n",
       "[1800 rows x 3 columns]"
      ]
     },
     "execution_count": 175,
     "metadata": {},
     "output_type": "execute_result"
    }
   ],
   "source": [
    "stemmed_test_df"
   ]
  },
  {
   "cell_type": "markdown",
   "id": "be4ff4d9",
   "metadata": {},
   "source": [
    "#### As seen above, the predict column filled."
   ]
  },
  {
   "cell_type": "markdown",
   "id": "92f0d796",
   "metadata": {},
   "source": [
    "### Predict categories for lemmatized test data"
   ]
  },
  {
   "cell_type": "code",
   "execution_count": 176,
   "id": "972e92e9",
   "metadata": {},
   "outputs": [],
   "source": [
    "for i in lemmatized_test_df.index:\n",
    "    data = lemmatized_test_df['data'][i]\n",
    "    curr_cat_scores = copy.deepcopy(categories)\n",
    "    for cat in curr_cat_scores:\n",
    "        scores = learned_lemmatized_df[cat[0]]\n",
    "        s = scores['count'].sum()\n",
    "        for word in data:\n",
    "            if word in scores.values:\n",
    "                cat[1] += math.log((int(scores.loc[scores['words'] == word]['count'])) / s)\n",
    "            else:\n",
    "                cat[1] += math.log(alpha)\n",
    "    mx = max([sublist[1] for sublist in curr_cat_scores])\n",
    "    for cat in curr_cat_scores:\n",
    "        if cat[1] == mx:\n",
    "            lemmatized_test_df['predict'][i] = cat[0]\n",
    "            break\n",
    "    "
   ]
  },
  {
   "cell_type": "code",
   "execution_count": 177,
   "id": "1942076c",
   "metadata": {},
   "outputs": [
    {
     "data": {
      "text/html": [
       "<div>\n",
       "<style scoped>\n",
       "    .dataframe tbody tr th:only-of-type {\n",
       "        vertical-align: middle;\n",
       "    }\n",
       "\n",
       "    .dataframe tbody tr th {\n",
       "        vertical-align: top;\n",
       "    }\n",
       "\n",
       "    .dataframe thead th {\n",
       "        text-align: right;\n",
       "    }\n",
       "</style>\n",
       "<table border=\"1\" class=\"dataframe\">\n",
       "  <thead>\n",
       "    <tr style=\"text-align: right;\">\n",
       "      <th></th>\n",
       "      <th>categories</th>\n",
       "      <th>data</th>\n",
       "      <th>predict</th>\n",
       "    </tr>\n",
       "  </thead>\n",
       "  <tbody>\n",
       "    <tr>\n",
       "      <th>0</th>\n",
       "      <td>personal</td>\n",
       "      <td>[کیف, مجلس, نو, کیف, مجلس, نو, نو]</td>\n",
       "      <td>personal</td>\n",
       "    </tr>\n",
       "    <tr>\n",
       "      <th>1</th>\n",
       "      <td>for-the-home</td>\n",
       "      <td>[دیوار, کوب, نمد, تزیین, مناسب, برای, جهاز, عروس]</td>\n",
       "      <td>for-the-home</td>\n",
       "    </tr>\n",
       "    <tr>\n",
       "      <th>2</th>\n",
       "      <td>for-the-home</td>\n",
       "      <td>[دو, تیکه, بسیار, بسیار, تمیز, سالم, کشو, مخفی...</td>\n",
       "      <td>for-the-home</td>\n",
       "    </tr>\n",
       "    <tr>\n",
       "      <th>3</th>\n",
       "      <td>electronic-devices</td>\n",
       "      <td>[مودم, سلام, مودم, سالم, وسایل, دیگه, ب, کاشت#...</td>\n",
       "      <td>electronic-devices</td>\n",
       "    </tr>\n",
       "    <tr>\n",
       "      <th>4</th>\n",
       "      <td>leisure-hobbies</td>\n",
       "      <td>[تعداد, ۱۸, عددبوقلمون, قیمت, عمده, سلام, تعدا...</td>\n",
       "      <td>leisure-hobbies</td>\n",
       "    </tr>\n",
       "    <tr>\n",
       "      <th>...</th>\n",
       "      <td>...</td>\n",
       "      <td>...</td>\n",
       "      <td>...</td>\n",
       "    </tr>\n",
       "    <tr>\n",
       "      <th>1795</th>\n",
       "      <td>businesses</td>\n",
       "      <td>[باسکول, ۳۰۰, کیلویی, سالمه, سالمه, بشرط, قیمت...</td>\n",
       "      <td>electronic-devices</td>\n",
       "    </tr>\n",
       "    <tr>\n",
       "      <th>1796</th>\n",
       "      <td>businesses</td>\n",
       "      <td>[میز, مدیریت, کنفرانس, میز, مدیریت, کنفرانس, ت...</td>\n",
       "      <td>businesses</td>\n",
       "    </tr>\n",
       "    <tr>\n",
       "      <th>1797</th>\n",
       "      <td>electronic-devices</td>\n",
       "      <td>[باند, aiwa, سالم, اسپیکر]</td>\n",
       "      <td>electronic-devices</td>\n",
       "    </tr>\n",
       "    <tr>\n",
       "      <th>1798</th>\n",
       "      <td>leisure-hobbies</td>\n",
       "      <td>[عروس, هلند, مولد, پنج, تا, عروس, هلند, دو, جف...</td>\n",
       "      <td>leisure-hobbies</td>\n",
       "    </tr>\n",
       "    <tr>\n",
       "      <th>1799</th>\n",
       "      <td>personal</td>\n",
       "      <td>[ست, دستباف, دخترانه, یکساله, نو, ست, دخترانه,...</td>\n",
       "      <td>personal</td>\n",
       "    </tr>\n",
       "  </tbody>\n",
       "</table>\n",
       "<p>1800 rows × 3 columns</p>\n",
       "</div>"
      ],
      "text/plain": [
       "              categories                                               data  \\\n",
       "0               personal                 [کیف, مجلس, نو, کیف, مجلس, نو, نو]   \n",
       "1           for-the-home  [دیوار, کوب, نمد, تزیین, مناسب, برای, جهاز, عروس]   \n",
       "2           for-the-home  [دو, تیکه, بسیار, بسیار, تمیز, سالم, کشو, مخفی...   \n",
       "3     electronic-devices  [مودم, سلام, مودم, سالم, وسایل, دیگه, ب, کاشت#...   \n",
       "4        leisure-hobbies  [تعداد, ۱۸, عددبوقلمون, قیمت, عمده, سلام, تعدا...   \n",
       "...                  ...                                                ...   \n",
       "1795          businesses  [باسکول, ۳۰۰, کیلویی, سالمه, سالمه, بشرط, قیمت...   \n",
       "1796          businesses  [میز, مدیریت, کنفرانس, میز, مدیریت, کنفرانس, ت...   \n",
       "1797  electronic-devices                         [باند, aiwa, سالم, اسپیکر]   \n",
       "1798     leisure-hobbies  [عروس, هلند, مولد, پنج, تا, عروس, هلند, دو, جف...   \n",
       "1799            personal  [ست, دستباف, دخترانه, یکساله, نو, ست, دخترانه,...   \n",
       "\n",
       "                 predict  \n",
       "0               personal  \n",
       "1           for-the-home  \n",
       "2           for-the-home  \n",
       "3     electronic-devices  \n",
       "4        leisure-hobbies  \n",
       "...                  ...  \n",
       "1795  electronic-devices  \n",
       "1796          businesses  \n",
       "1797  electronic-devices  \n",
       "1798     leisure-hobbies  \n",
       "1799            personal  \n",
       "\n",
       "[1800 rows x 3 columns]"
      ]
     },
     "execution_count": 177,
     "metadata": {},
     "output_type": "execute_result"
    }
   ],
   "source": [
    "lemmatized_test_df"
   ]
  },
  {
   "cell_type": "markdown",
   "id": "ad293f86",
   "metadata": {},
   "source": [
    "#### As seen above, the predict column filled."
   ]
  },
  {
   "cell_type": "code",
   "execution_count": 178,
   "id": "398921f6",
   "metadata": {},
   "outputs": [],
   "source": [
    "correct_detected = 0\n",
    "total = 0\n",
    "for i in test_dataframe.index:\n",
    "    if test_dataframe['predict'][i] == test_dataframe['categories'][i]:\n",
    "        correct_detected += 1\n",
    "    total += 1"
   ]
  },
  {
   "cell_type": "code",
   "execution_count": 179,
   "id": "ef4e037f",
   "metadata": {
    "scrolled": true
   },
   "outputs": [
    {
     "name": "stdout",
     "output_type": "stream",
     "text": [
      "Accuracy : 0.8727777777777778\n"
     ]
    }
   ],
   "source": [
    "accuracy = correct_detected / total\n",
    "print(\"Accuracy :\",accuracy)"
   ]
  },
  {
   "cell_type": "code",
   "execution_count": 180,
   "id": "e8dbafae",
   "metadata": {},
   "outputs": [],
   "source": [
    "correct_detected = 0\n",
    "total = 0\n",
    "for i in stemmed_test_df.index:\n",
    "    if stemmed_test_df['predict'][i] == stemmed_test_df['categories'][i]:\n",
    "        correct_detected += 1\n",
    "    total += 1"
   ]
  },
  {
   "cell_type": "code",
   "execution_count": 181,
   "id": "9927c571",
   "metadata": {},
   "outputs": [
    {
     "name": "stdout",
     "output_type": "stream",
     "text": [
      "Stemmed Accuracy : 0.8711111111111111\n"
     ]
    }
   ],
   "source": [
    "stemmed_accuracy = correct_detected / total\n",
    "print(\"Stemmed Accuracy :\",stemmed_accuracy)"
   ]
  },
  {
   "cell_type": "code",
   "execution_count": 182,
   "id": "79c1208b",
   "metadata": {},
   "outputs": [],
   "source": [
    "correct_detected = 0\n",
    "total = 0\n",
    "for i in lemmatized_test_df.index:\n",
    "    if lemmatized_test_df['predict'][i] == lemmatized_test_df['categories'][i]:\n",
    "        correct_detected += 1\n",
    "    total += 1"
   ]
  },
  {
   "cell_type": "code",
   "execution_count": 183,
   "id": "07a10d9b",
   "metadata": {},
   "outputs": [
    {
     "name": "stdout",
     "output_type": "stream",
     "text": [
      "Lemmatized Accuracy: 0.8761111111111111\n"
     ]
    }
   ],
   "source": [
    "lemmatized_accuracy = correct_detected / total\n",
    "print(\"Lemmatized Accuracy:\",lemmatized_accuracy)"
   ]
  },
  {
   "cell_type": "code",
   "execution_count": null,
   "id": "f6b25576",
   "metadata": {},
   "outputs": [],
   "source": []
  },
  {
   "cell_type": "code",
   "execution_count": null,
   "id": "e35450b7",
   "metadata": {},
   "outputs": [],
   "source": []
  },
  {
   "cell_type": "code",
   "execution_count": null,
   "id": "60d46fe3",
   "metadata": {},
   "outputs": [],
   "source": []
  },
  {
   "cell_type": "code",
   "execution_count": null,
   "id": "3b84add2",
   "metadata": {},
   "outputs": [],
   "source": []
  },
  {
   "cell_type": "markdown",
   "id": "49d82e2c",
   "metadata": {},
   "source": [
    "### 12. Because of using words with multiple meaning, Common words in some classes, use single words and dont care next and prev words for each word and some other reasons; some of categories are wrong predicted."
   ]
  },
  {
   "cell_type": "code",
   "execution_count": null,
   "id": "b7d30583",
   "metadata": {},
   "outputs": [],
   "source": []
  },
  {
   "cell_type": "code",
   "execution_count": null,
   "id": "9ab3702a",
   "metadata": {},
   "outputs": [],
   "source": []
  },
  {
   "cell_type": "code",
   "execution_count": null,
   "id": "9afa4efc",
   "metadata": {},
   "outputs": [],
   "source": []
  }
 ],
 "metadata": {
  "kernelspec": {
   "display_name": "Python 3 (ipykernel)",
   "language": "python",
   "name": "python3"
  },
  "language_info": {
   "codemirror_mode": {
    "name": "ipython",
    "version": 3
   },
   "file_extension": ".py",
   "mimetype": "text/x-python",
   "name": "python",
   "nbconvert_exporter": "python",
   "pygments_lexer": "ipython3",
   "version": "3.8.10"
  }
 },
 "nbformat": 4,
 "nbformat_minor": 5
}
